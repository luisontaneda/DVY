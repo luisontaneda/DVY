{
 "cells": [
  {
   "cell_type": "markdown",
   "metadata": {},
   "source": [
    "<img style=\"float: right; margin: 0px 0px 15px 15px;\" src=\"https://upload.wikimedia.org/wikipedia/commons/d/db/Logo_ITESO_normal.jpg\" width=\"150px\" height=\"90px\" />\n",
    "\n",
    "## Microestructuras y sistemas de trading\n",
    "\n",
    "### Laboratorio 1. Administración Pasiva vs Administración Activa.\n",
    "\n",
    ">##### Luis Ontaneda\n",
    ">##### Antonio Tirado\n",
    ">##### Pablo Vargas\n",
    ">##### Oscar Villa"
   ]
  },
  {
   "cell_type": "markdown",
   "metadata": {},
   "source": [
    "### Objetivo:\n",
    "\n",
    "Para la resolución de este primer laboratorio, el objetivo consta de replicar un ETF en forma directa para una junta directiva.\n",
    "\n",
    "En este proyecto, nos enfocaremos en el ETF \"DVY\", que se compone de un índice con una ponderación de alrededor de 100 activos que cumplen con el perfil de \"alto dividendo\".\n",
    "\n",
    "Trataremos de replicar el comportamiento de DVY, evaluando 12 escenarios diferentes. Cada escenario contara con un solo rebalanceo en un mes diferente en el periodo de Marzo17-Marzo18. Este rebalanceo se realizará con los pesos reales en el tiempo estudiado. \n",
    "Los datos con los cuales cuenta este proyecto se obtuvieron de ishares y Quandle. \n",
    "\n",
    "Cabe señalar que por disponibilidad de los datos en algunos meses se eiminan algunas acciones que componen DVY pero esto no afecta el análisis de los resultados. \n",
    "Mediante un análisis de índices atribuidos al desempeño trataremos de concluir cual de los 12 escenarios hubiera sido el mejor."
   ]
  },
  {
   "cell_type": "markdown",
   "metadata": {},
   "source": [
    "Importamos librerias"
   ]
  },
  {
   "cell_type": "code",
   "execution_count": 34,
   "metadata": {},
   "outputs": [],
   "source": [
    "import pandas as pd\n",
    "import quandl\n",
    "import matplotlib.pyplot as plt\n",
    "import numpy as np\n",
    "import warnings\n",
    "from datetime import date\n",
    "%matplotlib inline\n",
    "quandl.ApiConfig.api_key = 'riVhxyiwNtvu-2DbzJsD'"
   ]
  },
  {
   "cell_type": "markdown",
   "metadata": {},
   "source": [
    "Descargamos el nombre de los tickers para poder conseguir los precios de cada activo facilmente"
   ]
  },
  {
   "cell_type": "code",
   "execution_count": 35,
   "metadata": {},
   "outputs": [],
   "source": [
    "tw = pd.read_csv(\"DVY_holdingsMAR17.csv\",skiprows=10,usecols=[0,3,5,6]).dropna()\n",
    "tw1 = pd.read_csv(\"DVY_holdingsApr.csv\",skiprows=10,usecols=[0,3,5,6]).dropna()\n",
    "tw2 = pd.read_csv(\"DVY_holdingsMay.csv\",skiprows=10,usecols=[0,3,5,6]).dropna()\n",
    "tw3 = pd.read_csv(\"DVY_holdingsJun.csv\",skiprows=10,usecols=[0,3,5,6]).dropna()\n",
    "tw4 = pd.read_csv(\"DVY_holdingsJul.csv\",skiprows=10,usecols=[0,3,5,6]).dropna()\n",
    "tw5 = pd.read_csv(\"DVY_holdingsAgo.csv\",skiprows=10,usecols=[0,3,5,6]).dropna()\n",
    "tw6 = pd.read_csv(\"DVY_holdingsSep.csv\",skiprows=10,usecols=[0,3,5,6]).dropna()\n",
    "tw7 = pd.read_csv(\"DVY_holdingsOct.csv\",skiprows=10,usecols=[0,3,5,6]).dropna()\n",
    "tw8 = pd.read_csv(\"DVY_holdingsNov.csv\",skiprows=10,usecols=[0,3,5,6]).dropna()\n",
    "tw9 = pd.read_csv(\"DVY_holdingsDic.csv\",skiprows=10,usecols=[0,3,5,6]).dropna()\n",
    "tw10 = pd.read_csv(\"DVY_holdingsEne.csv\",skiprows=10,usecols=[0,3,5,6]).dropna()\n",
    "tw11 = pd.read_csv(\"DVY_holdingsFeb.csv\",skiprows=10,usecols=[0,3,5,6]).dropna()\n",
    "tws = [tw,tw1,tw2,tw3,tw4,tw5,tw6,tw7,tw8,tw9,tw10,tw11]"
   ]
  },
  {
   "cell_type": "code",
   "execution_count": 36,
   "metadata": {},
   "outputs": [],
   "source": [
    "tw = pd.read_csv(\"DVY_holdingsMAR17.csv\",usecols=[1],nrows=4).dropna()\n",
    "tw1 = pd.read_csv(\"DVY_holdingsApr.csv\",usecols=[1],nrows=4).dropna()\n",
    "tw2 = pd.read_csv(\"DVY_holdingsMay.csv\",usecols=[1],nrows=4).dropna()\n",
    "tw3 = pd.read_csv(\"DVY_holdingsJun.csv\",usecols=[1],nrows=4).dropna()\n",
    "tw4 = pd.read_csv(\"DVY_holdingsJul.csv\",usecols=[1],nrows=4).dropna()\n",
    "tw5 = pd.read_csv(\"DVY_holdingsAgo.csv\",usecols=[1],nrows=4).dropna()\n",
    "tw6 = pd.read_csv(\"DVY_holdingsSep.csv\",usecols=[1],nrows=4).dropna()\n",
    "tw7 = pd.read_csv(\"DVY_holdingsOct.csv\",usecols=[1],nrows=4).dropna()\n",
    "tw8 = pd.read_csv(\"DVY_holdingsNov.csv\",usecols=[1],nrows=4).dropna()\n",
    "tw9 = pd.read_csv(\"DVY_holdingsDic.csv\",usecols=[1],nrows=4).dropna()\n",
    "tw10 = pd.read_csv(\"DVY_holdingsEne.csv\",usecols=[1],nrows=4).dropna()\n",
    "tw11 = pd.read_csv(\"DVY_holdingsFeb.csv\",usecols=[1],nrows=4).dropna()\n",
    "numacc = [tw,tw1,tw2,tw3,tw4,tw5,tw6,tw7,tw8,tw9,tw10,tw11]"
   ]
  },
  {
   "cell_type": "code",
   "execution_count": 37,
   "metadata": {},
   "outputs": [],
   "source": [
    "tasa = pd.read_csv(\"Yield.csv\",usecols=[1]).apply(lambda x: x/100)"
   ]
  },
  {
   "cell_type": "markdown",
   "metadata": {},
   "source": [
    "Funcion para bajar precios"
   ]
  },
  {
   "cell_type": "code",
   "execution_count": 38,
   "metadata": {},
   "outputs": [],
   "source": [
    "def rend(tw,m,y):\n",
    "    data = quandl.get_table('WIKI/PRICES', ticker = [tw.iloc[:,0].values], \n",
    "                        qopts = { 'columns': ['ticker', 'date', 'adj_close'] }, \n",
    "                        date = { 'gte': date(year = y, month = m, day = 1), 'lte': '2018-03-01' }, \n",
    "                        paginate=True)\n",
    "    \n",
    "    data = data.pivot(index=\"date\",columns=\"ticker\",values=\"adj_close\")\n",
    "    ret = data.apply(lambda x: np.log(x/x.shift(1)).dropna()).fillna(0)\n",
    "    \n",
    "    return data.fillna(0),ret"
   ]
  },
  {
   "cell_type": "code",
   "execution_count": 39,
   "metadata": {},
   "outputs": [],
   "source": [
    "def peso(tickerstotales,tickerscapturados):\n",
    "    mt = np.setdiff1d(tickerstotales.iloc[:,0],tickerscapturados.columns)\n",
    "    newtw = tickerstotales\n",
    "    for i in range(len(tickerstotales)):\n",
    "        for j in mt:\n",
    "            if j == tickerstotales.iloc[i,0]:\n",
    "                newtw = newtw.drop(i)     \n",
    "    return newtw.sort_values(\"Ticker\").reset_index(drop=True)"
   ]
  },
  {
   "cell_type": "code",
   "execution_count": 40,
   "metadata": {},
   "outputs": [],
   "source": [
    "def rebalanceo(tws,año):\n",
    "    meses = np.arange(3,13)\n",
    "    if año == 2017:\n",
    "        xmes = [rend(tws[i],meses[i],año) for i in range(len(meses))]\n",
    "        xmes1 = [xmes[i][0] for i in range(len(xmes))]\n",
    "        retmes = [xmes[i][1] for i in range(len(xmes))]\n",
    "        xpeso = [peso(tws[i],xmes1[i]) for i in range(len(meses))]\n",
    "    else:\n",
    "        xmes = [rend(tws[i+8],i,año) for i in range(1,3)]\n",
    "        xmes1 = [xmes[i][0] for i in range(len(xmes))]\n",
    "        retmes = [xmes[i][1] for i in range(len(xmes))]\n",
    "        xpeso = [peso(tws[i+8],xmes1[i]) for i in range(len(xmes))]\n",
    "    \n",
    "    return xmes1,xpeso,retmes"
   ]
  },
  {
   "cell_type": "code",
   "execution_count": 41,
   "metadata": {},
   "outputs": [],
   "source": [
    "def mes(x):\n",
    "    for i in range(len(x)):\n",
    "        x[i]['date'] = x[i].index\n",
    "    \n",
    "    kxmes = [x[i].groupby(pd.Grouper(key='date', freq='M')) for i in range(len(x))]\n",
    "    kxmes = [[kxmes[i].get_group(x) for x in kxmes[i].groups] for i in range(len(kxmes))]\n",
    "    kxmes = [[i[j].drop(\"date\",axis=1) for j in range(len(i))] for i in kxmes]\n",
    "    \n",
    "    return kxmes"
   ]
  },
  {
   "cell_type": "markdown",
   "metadata": {},
   "source": [
    "Sacamos nav diarios multiplicando acciones por precio"
   ]
  },
  {
   "cell_type": "code",
   "execution_count": 42,
   "metadata": {},
   "outputs": [],
   "source": [
    "def navdia(tw,rendtw,numacc):\n",
    "    f = [[float(j.iloc[i,2].replace(\",\",\"\")) for i in range(len(j))] for j in tw[1]]\n",
    "    dot = [[[np.dot(f[k],z.iloc[i,:]) for i in range(len(z))] for z in rendtw[k]] \n",
    "           for k in range(len(rendtw))]\n",
    "    k = [float(numacc[i].iloc[3,0].replace(\",\",\"\")) for i in range(len(numacc))]\n",
    "    n=[[[x/k[j] for x in y] for y in dot[j]] for j in range(len(dot))]\n",
    "    \n",
    "    return n"
   ]
  },
  {
   "cell_type": "markdown",
   "metadata": {},
   "source": [
    "Funcion para sacar cada rendimiento de mes"
   ]
  },
  {
   "cell_type": "code",
   "execution_count": 43,
   "metadata": {},
   "outputs": [],
   "source": [
    "rendcadanav = lambda x: [[j[i][-1]/j[i][0]-1 for i in range(len(j))] for j in x]"
   ]
  },
  {
   "cell_type": "markdown",
   "metadata": {},
   "source": [
    "Funcion para rendimientos diarios"
   ]
  },
  {
   "cell_type": "code",
   "execution_count": 44,
   "metadata": {},
   "outputs": [],
   "source": [
    "rendcadanavdia = lambda x: [[[j[i][k]/j[i][k-1]-1 for k in range(1,len(j[i]))] for i in range(len(j))] for j in x]"
   ]
  },
  {
   "cell_type": "code",
   "execution_count": 45,
   "metadata": {},
   "outputs": [],
   "source": [
    "v = lambda x: [[np.std(j[i]) for i in range(len(j))] for j in rendnavsdia]"
   ]
  },
  {
   "cell_type": "code",
   "execution_count": 46,
   "metadata": {},
   "outputs": [],
   "source": [
    "def navmes(tws,numacc):\n",
    "    f = [[float(j.iloc[i,3].replace(\",\",\"\")) for i in range(len(j))] for j in tws]\n",
    "    f = [sum(i) for i in f]\n",
    "    y = [float(numacc[i].iloc[3,0].replace(\",\",\"\")) for i in range(len(numacc))]\n",
    "    n = [f[i]/y[i] for i in range(len(f))]\n",
    "    \n",
    "    return n"
   ]
  },
  {
   "cell_type": "code",
   "execution_count": 47,
   "metadata": {},
   "outputs": [],
   "source": [
    "def media(kxmes):\n",
    "    mediaxmes = [[np.mean(kxmes[j][i]) for i in range(len(kxmes[j]))] for j in range(len(kxmes))]\n",
    "    return mediaxmes"
   ]
  },
  {
   "cell_type": "code",
   "execution_count": 48,
   "metadata": {},
   "outputs": [],
   "source": [
    "def vol(nav):\n",
    "    nav = [[j for i in nav[x] for j in i] for x in range(len(nav))]\n",
    "    v = [[np.std(i) for i in j] for j in nav]\n",
    "    return v"
   ]
  },
  {
   "cell_type": "code",
   "execution_count": 49,
   "metadata": {},
   "outputs": [],
   "source": [
    "def rendxpeso(mediaxmes,tw):\n",
    "    x =[[sum(np.multiply(tw[1][j].iloc[:,1],mediaxmes[j][i])) \n",
    "          for i in range(len(mediaxmes[j]))] for j in range(len(mediaxmes))]\n",
    "    return x"
   ]
  },
  {
   "cell_type": "code",
   "execution_count": 50,
   "metadata": {},
   "outputs": [],
   "source": [
    "def grafica(x,y):\n",
    "    plt.plot(np.arange(len(r[0])),r[0][0:x] + r[x],label=y)\n",
    "    plt.legend()\n",
    "    plt.legend(loc='center left', bbox_to_anchor=(1, 0.5))\n",
    "    plt.title(\"Valores esperados\")\n",
    "    plt.xlabel(\"Tiempo\")\n",
    "    plt.ylabel(\"E[Rp]\")\n",
    "    \n",
    "    return"
   ]
  },
  {
   "cell_type": "code",
   "execution_count": 51,
   "metadata": {},
   "outputs": [],
   "source": [
    "def graficanav(x,y):\n",
    "    plt.plot(np.arange(len(rendnavsmes[x])),rendnavsmes[x],label=y)\n",
    "    plt.legend()\n",
    "    plt.title(\"Rendimientos\")\n",
    "    plt.legend(loc='center left', bbox_to_anchor=(1, 0.5))\n",
    "    plt.xlabel(\"Tiempo\")\n",
    "    plt.ylabel(\"Rend\")\n",
    "    \n",
    "    return"
   ]
  },
  {
   "cell_type": "markdown",
   "metadata": {},
   "source": [
    "Sacamos el ratio sharpe"
   ]
  },
  {
   "cell_type": "code",
   "execution_count": 52,
   "metadata": {},
   "outputs": [],
   "source": [
    "def sharpe(rend,tasa,vol):\n",
    "    return [[(rend[i][j]-tasa.iloc[j][0])/vol[i][j] for j in range(len(rend[i]))] for i in range(len(rend))]"
   ]
  },
  {
   "cell_type": "code",
   "execution_count": 53,
   "metadata": {},
   "outputs": [],
   "source": [
    "def rendimientos(x):\n",
    "    rebalanceo = r[0][0:x] + r[x]\n",
    "    \n",
    "    j = 'Rebalanceo tiempo '+str(x)\n",
    "    if x == 0:\n",
    "        return pd.DataFrame({'Sin rebalanceo': r[0]})\n",
    "    \n",
    "    else:\n",
    "        return pd.DataFrame({'Sin rebalanceo': r[0], j: rebalanceo})"
   ]
  },
  {
   "cell_type": "markdown",
   "metadata": {},
   "source": [
    "Se combinan valores para poder comparar rebalanceo"
   ]
  },
  {
   "cell_type": "code",
   "execution_count": 54,
   "metadata": {},
   "outputs": [],
   "source": [
    "combinar = lambda x,y: x[0][0:y] + x[y]"
   ]
  },
  {
   "cell_type": "code",
   "execution_count": 55,
   "metadata": {},
   "outputs": [],
   "source": [
    "def tabla(rend,vol,sh,n):\n",
    "    return pd.DataFrame({'Rendimiento': rend[n], \"vol\":vol[n],\"Sharpe\":sh[n]})"
   ]
  },
  {
   "cell_type": "markdown",
   "metadata": {},
   "source": [
    "Acomodamos para que quede la fecha como indice y los precios de los activos en cada columna"
   ]
  },
  {
   "cell_type": "code",
   "execution_count": 56,
   "metadata": {},
   "outputs": [],
   "source": [
    "tw2017 = rebalanceo(tws,2017)\n",
    "tw2018 = rebalanceo(tws,2018)"
   ]
  },
  {
   "cell_type": "code",
   "execution_count": 57,
   "metadata": {},
   "outputs": [],
   "source": [
    "rtw2017 = tw2017[2]\n",
    "rtw2018 = tw2018[2]"
   ]
  },
  {
   "cell_type": "code",
   "execution_count": 58,
   "metadata": {},
   "outputs": [],
   "source": [
    "mestw2017 = mes(tw2017[0])\n",
    "mestw2018 = mes(tw2018[0])"
   ]
  },
  {
   "cell_type": "code",
   "execution_count": 59,
   "metadata": {},
   "outputs": [],
   "source": [
    "navdiario2017 = navdia(tw2017,mestw2017,numacc)\n",
    "navdiario2018 = navdia(tw2018,mestw2018,numacc)"
   ]
  },
  {
   "cell_type": "code",
   "execution_count": 60,
   "metadata": {},
   "outputs": [],
   "source": [
    "navdiario = navdiario2017 + navdiario2018"
   ]
  },
  {
   "cell_type": "code",
   "execution_count": 61,
   "metadata": {},
   "outputs": [],
   "source": [
    "for i in navdiario:\n",
    "    i.pop()"
   ]
  },
  {
   "cell_type": "code",
   "execution_count": 62,
   "metadata": {},
   "outputs": [],
   "source": [
    "navdiario =[combinar(navdiario,i) for i in range(len(navdiario))]"
   ]
  },
  {
   "cell_type": "code",
   "execution_count": 63,
   "metadata": {},
   "outputs": [],
   "source": [
    "rendnavsmes = rendcadanav(navdiario)"
   ]
  },
  {
   "cell_type": "code",
   "execution_count": 64,
   "metadata": {},
   "outputs": [],
   "source": [
    "rendnavsdia = rendcadanavdia(navdiario)"
   ]
  },
  {
   "cell_type": "code",
   "execution_count": 65,
   "metadata": {},
   "outputs": [],
   "source": [
    "volxmes = v(rendnavsdia)"
   ]
  },
  {
   "cell_type": "code",
   "execution_count": 66,
   "metadata": {},
   "outputs": [],
   "source": [
    "k = [[i for j in k for i in j] for k in rendnavsdia]"
   ]
  },
  {
   "cell_type": "code",
   "execution_count": 67,
   "metadata": {},
   "outputs": [],
   "source": [
    "volanual = [np.std(i) for i in k]"
   ]
  },
  {
   "cell_type": "code",
   "execution_count": 68,
   "metadata": {},
   "outputs": [],
   "source": [
    "sh = sharpe(rendnavsmes,tasa,volxmes)"
   ]
  },
  {
   "cell_type": "code",
   "execution_count": 69,
   "metadata": {},
   "outputs": [],
   "source": [
    "rendanualnav=[navdiario[i][-1][-1]/navdiario[i][0][0]-1 for i in range(len(navdiario))]"
   ]
  },
  {
   "cell_type": "code",
   "execution_count": 70,
   "metadata": {},
   "outputs": [],
   "source": [
    "shanual = [(rendanualnav[i]-tasa.iloc[-1][0])/volanual[i] for i in range(len(rendanualnav))]"
   ]
  },
  {
   "cell_type": "code",
   "execution_count": 71,
   "metadata": {},
   "outputs": [
    {
     "data": {
      "text/html": [
       "<div>\n",
       "<style scoped>\n",
       "    .dataframe tbody tr th:only-of-type {\n",
       "        vertical-align: middle;\n",
       "    }\n",
       "\n",
       "    .dataframe tbody tr th {\n",
       "        vertical-align: top;\n",
       "    }\n",
       "\n",
       "    .dataframe thead th {\n",
       "        text-align: right;\n",
       "    }\n",
       "</style>\n",
       "<table border=\"1\" class=\"dataframe\">\n",
       "  <thead>\n",
       "    <tr style=\"text-align: right;\">\n",
       "      <th></th>\n",
       "      <th>Mar</th>\n",
       "      <th>Apr</th>\n",
       "      <th>May</th>\n",
       "      <th>Jun</th>\n",
       "      <th>Jul</th>\n",
       "      <th>Aug</th>\n",
       "      <th>Sep</th>\n",
       "      <th>Oct</th>\n",
       "      <th>Nov</th>\n",
       "      <th>Dec</th>\n",
       "      <th>Jan 2018</th>\n",
       "      <th>Feb 2018</th>\n",
       "    </tr>\n",
       "  </thead>\n",
       "  <tbody>\n",
       "    <tr>\n",
       "      <th>NO rebalanceo Marzo 2017</th>\n",
       "      <td>-0.014955</td>\n",
       "      <td>0.005786</td>\n",
       "      <td>0.012194</td>\n",
       "      <td>-0.002983</td>\n",
       "      <td>0.001854</td>\n",
       "      <td>-0.007350</td>\n",
       "      <td>0.017543</td>\n",
       "      <td>0.008664</td>\n",
       "      <td>0.041079</td>\n",
       "      <td>0.005618</td>\n",
       "      <td>0.017333</td>\n",
       "      <td>-0.041618</td>\n",
       "    </tr>\n",
       "    <tr>\n",
       "      <th>Rebalanceo Abril 2017</th>\n",
       "      <td>-0.014955</td>\n",
       "      <td>0.005793</td>\n",
       "      <td>0.012209</td>\n",
       "      <td>-0.002987</td>\n",
       "      <td>0.001844</td>\n",
       "      <td>-0.007345</td>\n",
       "      <td>0.017544</td>\n",
       "      <td>0.008664</td>\n",
       "      <td>0.041080</td>\n",
       "      <td>0.005623</td>\n",
       "      <td>0.017345</td>\n",
       "      <td>-0.041615</td>\n",
       "    </tr>\n",
       "    <tr>\n",
       "      <th>Rebalanceo Mayo 2017</th>\n",
       "      <td>-0.014955</td>\n",
       "      <td>0.005786</td>\n",
       "      <td>0.012214</td>\n",
       "      <td>-0.002973</td>\n",
       "      <td>0.001848</td>\n",
       "      <td>-0.007359</td>\n",
       "      <td>0.017557</td>\n",
       "      <td>0.008653</td>\n",
       "      <td>0.041092</td>\n",
       "      <td>0.005641</td>\n",
       "      <td>0.017356</td>\n",
       "      <td>-0.041636</td>\n",
       "    </tr>\n",
       "    <tr>\n",
       "      <th>Rebalanceo Junio 2017</th>\n",
       "      <td>-0.014955</td>\n",
       "      <td>0.005786</td>\n",
       "      <td>0.012194</td>\n",
       "      <td>-0.002960</td>\n",
       "      <td>0.001840</td>\n",
       "      <td>-0.007398</td>\n",
       "      <td>0.017547</td>\n",
       "      <td>0.008648</td>\n",
       "      <td>0.041099</td>\n",
       "      <td>0.005632</td>\n",
       "      <td>0.017357</td>\n",
       "      <td>-0.041618</td>\n",
       "    </tr>\n",
       "    <tr>\n",
       "      <th>Rebalanceo Julio 2017</th>\n",
       "      <td>-0.014955</td>\n",
       "      <td>0.005786</td>\n",
       "      <td>0.012194</td>\n",
       "      <td>-0.002983</td>\n",
       "      <td>0.001852</td>\n",
       "      <td>-0.007394</td>\n",
       "      <td>0.017558</td>\n",
       "      <td>0.008648</td>\n",
       "      <td>0.041102</td>\n",
       "      <td>0.005639</td>\n",
       "      <td>0.017348</td>\n",
       "      <td>-0.041638</td>\n",
       "    </tr>\n",
       "    <tr>\n",
       "      <th>Rebalanceo Agosto 2017</th>\n",
       "      <td>-0.014955</td>\n",
       "      <td>0.005786</td>\n",
       "      <td>0.012194</td>\n",
       "      <td>-0.002983</td>\n",
       "      <td>0.001854</td>\n",
       "      <td>-0.007397</td>\n",
       "      <td>0.017569</td>\n",
       "      <td>0.008642</td>\n",
       "      <td>0.041108</td>\n",
       "      <td>0.005652</td>\n",
       "      <td>0.017352</td>\n",
       "      <td>-0.041651</td>\n",
       "    </tr>\n",
       "    <tr>\n",
       "      <th>Rebalanceo Septiembre 2017</th>\n",
       "      <td>-0.014955</td>\n",
       "      <td>0.005786</td>\n",
       "      <td>0.012194</td>\n",
       "      <td>-0.002983</td>\n",
       "      <td>0.001854</td>\n",
       "      <td>-0.007350</td>\n",
       "      <td>0.020474</td>\n",
       "      <td>0.008627</td>\n",
       "      <td>0.041107</td>\n",
       "      <td>0.005645</td>\n",
       "      <td>0.017355</td>\n",
       "      <td>-0.041641</td>\n",
       "    </tr>\n",
       "    <tr>\n",
       "      <th>Rebalanceo Octubre 2017</th>\n",
       "      <td>-0.014955</td>\n",
       "      <td>0.005786</td>\n",
       "      <td>0.012194</td>\n",
       "      <td>-0.002983</td>\n",
       "      <td>0.001854</td>\n",
       "      <td>-0.007350</td>\n",
       "      <td>0.017543</td>\n",
       "      <td>0.008626</td>\n",
       "      <td>0.041113</td>\n",
       "      <td>0.005659</td>\n",
       "      <td>0.017359</td>\n",
       "      <td>-0.041658</td>\n",
       "    </tr>\n",
       "    <tr>\n",
       "      <th>Rebalanceo Noviembre 2017</th>\n",
       "      <td>-0.014955</td>\n",
       "      <td>0.005786</td>\n",
       "      <td>0.012194</td>\n",
       "      <td>-0.002983</td>\n",
       "      <td>0.001854</td>\n",
       "      <td>-0.007350</td>\n",
       "      <td>0.017543</td>\n",
       "      <td>0.008664</td>\n",
       "      <td>0.039847</td>\n",
       "      <td>0.006248</td>\n",
       "      <td>0.017495</td>\n",
       "      <td>-0.042018</td>\n",
       "    </tr>\n",
       "    <tr>\n",
       "      <th>Rebalanceo Diciembre 2017</th>\n",
       "      <td>-0.014955</td>\n",
       "      <td>0.005786</td>\n",
       "      <td>0.012194</td>\n",
       "      <td>-0.002983</td>\n",
       "      <td>0.001854</td>\n",
       "      <td>-0.007350</td>\n",
       "      <td>0.017543</td>\n",
       "      <td>0.008664</td>\n",
       "      <td>0.041079</td>\n",
       "      <td>0.006264</td>\n",
       "      <td>0.017518</td>\n",
       "      <td>-0.042005</td>\n",
       "    </tr>\n",
       "    <tr>\n",
       "      <th>Rebalanceo Enero 2018</th>\n",
       "      <td>-0.014955</td>\n",
       "      <td>0.005786</td>\n",
       "      <td>0.012194</td>\n",
       "      <td>-0.002983</td>\n",
       "      <td>0.001854</td>\n",
       "      <td>-0.007350</td>\n",
       "      <td>0.017543</td>\n",
       "      <td>0.008664</td>\n",
       "      <td>0.041079</td>\n",
       "      <td>0.005618</td>\n",
       "      <td>0.017495</td>\n",
       "      <td>-0.042018</td>\n",
       "    </tr>\n",
       "    <tr>\n",
       "      <th>Rebalanceo Febrero 2018</th>\n",
       "      <td>-0.014955</td>\n",
       "      <td>0.005786</td>\n",
       "      <td>0.012194</td>\n",
       "      <td>-0.002983</td>\n",
       "      <td>0.001854</td>\n",
       "      <td>-0.007350</td>\n",
       "      <td>0.017543</td>\n",
       "      <td>0.008664</td>\n",
       "      <td>0.041079</td>\n",
       "      <td>0.005618</td>\n",
       "      <td>0.017333</td>\n",
       "      <td>-0.042049</td>\n",
       "    </tr>\n",
       "  </tbody>\n",
       "</table>\n",
       "</div>"
      ],
      "text/plain": [
       "                                 Mar       Apr       May       Jun       Jul  \\\n",
       "NO rebalanceo Marzo 2017   -0.014955  0.005786  0.012194 -0.002983  0.001854   \n",
       "Rebalanceo Abril 2017      -0.014955  0.005793  0.012209 -0.002987  0.001844   \n",
       "Rebalanceo Mayo 2017       -0.014955  0.005786  0.012214 -0.002973  0.001848   \n",
       "Rebalanceo Junio 2017      -0.014955  0.005786  0.012194 -0.002960  0.001840   \n",
       "Rebalanceo Julio 2017      -0.014955  0.005786  0.012194 -0.002983  0.001852   \n",
       "Rebalanceo Agosto 2017     -0.014955  0.005786  0.012194 -0.002983  0.001854   \n",
       "Rebalanceo Septiembre 2017 -0.014955  0.005786  0.012194 -0.002983  0.001854   \n",
       "Rebalanceo Octubre 2017    -0.014955  0.005786  0.012194 -0.002983  0.001854   \n",
       "Rebalanceo Noviembre 2017  -0.014955  0.005786  0.012194 -0.002983  0.001854   \n",
       "Rebalanceo Diciembre 2017  -0.014955  0.005786  0.012194 -0.002983  0.001854   \n",
       "Rebalanceo Enero 2018      -0.014955  0.005786  0.012194 -0.002983  0.001854   \n",
       "Rebalanceo Febrero 2018    -0.014955  0.005786  0.012194 -0.002983  0.001854   \n",
       "\n",
       "                                 Aug       Sep       Oct       Nov      Dec   \\\n",
       "NO rebalanceo Marzo 2017   -0.007350  0.017543  0.008664  0.041079  0.005618   \n",
       "Rebalanceo Abril 2017      -0.007345  0.017544  0.008664  0.041080  0.005623   \n",
       "Rebalanceo Mayo 2017       -0.007359  0.017557  0.008653  0.041092  0.005641   \n",
       "Rebalanceo Junio 2017      -0.007398  0.017547  0.008648  0.041099  0.005632   \n",
       "Rebalanceo Julio 2017      -0.007394  0.017558  0.008648  0.041102  0.005639   \n",
       "Rebalanceo Agosto 2017     -0.007397  0.017569  0.008642  0.041108  0.005652   \n",
       "Rebalanceo Septiembre 2017 -0.007350  0.020474  0.008627  0.041107  0.005645   \n",
       "Rebalanceo Octubre 2017    -0.007350  0.017543  0.008626  0.041113  0.005659   \n",
       "Rebalanceo Noviembre 2017  -0.007350  0.017543  0.008664  0.039847  0.006248   \n",
       "Rebalanceo Diciembre 2017  -0.007350  0.017543  0.008664  0.041079  0.006264   \n",
       "Rebalanceo Enero 2018      -0.007350  0.017543  0.008664  0.041079  0.005618   \n",
       "Rebalanceo Febrero 2018    -0.007350  0.017543  0.008664  0.041079  0.005618   \n",
       "\n",
       "                            Jan 2018  Feb 2018  \n",
       "NO rebalanceo Marzo 2017    0.017333 -0.041618  \n",
       "Rebalanceo Abril 2017       0.017345 -0.041615  \n",
       "Rebalanceo Mayo 2017        0.017356 -0.041636  \n",
       "Rebalanceo Junio 2017       0.017357 -0.041618  \n",
       "Rebalanceo Julio 2017       0.017348 -0.041638  \n",
       "Rebalanceo Agosto 2017      0.017352 -0.041651  \n",
       "Rebalanceo Septiembre 2017  0.017355 -0.041641  \n",
       "Rebalanceo Octubre 2017     0.017359 -0.041658  \n",
       "Rebalanceo Noviembre 2017   0.017495 -0.042018  \n",
       "Rebalanceo Diciembre 2017   0.017518 -0.042005  \n",
       "Rebalanceo Enero 2018       0.017495 -0.042018  \n",
       "Rebalanceo Febrero 2018     0.017333 -0.042049  "
      ]
     },
     "execution_count": 71,
     "metadata": {},
     "output_type": "execute_result"
    },
    {
     "data": {
      "image/png": "[encoded data removed]",
      "text/plain": [
       "<Figure size 432x288 with 1 Axes>"
      ]
     },
     "metadata": {
      "needs_background": "light"
     },
     "output_type": "display_data"
    }
   ],
   "source": [
    "\n",
    "df = pd.DataFrame({'NO rebalanceo Marzo 2017':rendnavsmes[0]\n",
    "                    ,'Rebalanceo Abril 2017':rendnavsmes[1]\n",
    "                   ,'Rebalanceo Mayo 2017':rendnavsmes[2]\n",
    "                  ,'Rebalanceo Junio 2017':rendnavsmes[3]\n",
    "                  ,'Rebalanceo Julio 2017':rendnavsmes[4]\n",
    "                  ,'Rebalanceo Agosto 2017':rendnavsmes[5]\n",
    "                  ,'Rebalanceo Septiembre 2017':rendnavsmes[6]\n",
    "                  ,'Rebalanceo Octubre 2017':rendnavsmes[7]\n",
    "                  ,'Rebalanceo Noviembre 2017':rendnavsmes[8]\n",
    "                  ,'Rebalanceo Diciembre 2017':rendnavsmes[9]  \n",
    "                  ,'Rebalanceo Enero 2018':rendnavsmes[10]\n",
    "                  ,'Rebalanceo Febrero 2018':rendnavsmes[11]})\n",
    "index_ = [\"Mar\", \"Apr\", \"May\", \"Jun\", \"Jul\", \"Aug\", \"Sep\", \"Oct\", \"Nov\", \"Dec \", \"Jan 2018\",\"Feb 2018\"] \n",
    "\n",
    "#index_ = ('Marzo 2017', 'Abril 2017','Mayo 2017','Junio 2017','Julio 2017','Agosto 2017','Septiembre 2017','Octubre 2017','Noviembre 2017','Diciembre 2017','Enero 2018','Febrero 2018') \n",
    "df.index = index_ \n",
    "\n",
    "graficanav(0,\"Sin rebalanceo\"),graficanav(1,\"Rebalanceo abril\"),graficanav(2,\"Rebalanceo mayo\"),graficanav(3,\"Rebalanceo Junio\"),graficanav(4,\"Rebalanceo Julio\"),graficanav(5,\"Rebalanceo agosto\"),graficanav(6,\"Rebalanceo septiembre\"),graficanav(7,\"Rebalanceo octubre\"),graficanav(8,\"Rebalanceo noviembre\"),graficanav(9,\"Rebalanceo diciembre\"),graficanav(10,\"Rebalanceo enero\"),graficanav(11,\"Rebalanceo febrero\")\n",
    "\n",
    "df.transpose()\n"
   ]
  },
  {
   "cell_type": "code",
   "execution_count": 72,
   "metadata": {},
   "outputs": [
    {
     "data": {
      "text/html": [
       "<div>\n",
       "<style scoped>\n",
       "    .dataframe tbody tr th:only-of-type {\n",
       "        vertical-align: middle;\n",
       "    }\n",
       "\n",
       "    .dataframe tbody tr th {\n",
       "        vertical-align: top;\n",
       "    }\n",
       "\n",
       "    .dataframe thead th {\n",
       "        text-align: right;\n",
       "    }\n",
       "</style>\n",
       "<table border=\"1\" class=\"dataframe\">\n",
       "  <thead>\n",
       "    <tr style=\"text-align: right;\">\n",
       "      <th></th>\n",
       "      <th>Mar</th>\n",
       "      <th>Apr</th>\n",
       "      <th>May</th>\n",
       "      <th>Jun</th>\n",
       "      <th>Jul</th>\n",
       "      <th>Aug</th>\n",
       "      <th>Sep</th>\n",
       "      <th>Oct</th>\n",
       "      <th>Nov</th>\n",
       "      <th>Dec</th>\n",
       "      <th>Jan 2018</th>\n",
       "      <th>Feb 2018</th>\n",
       "    </tr>\n",
       "  </thead>\n",
       "  <tbody>\n",
       "    <tr>\n",
       "      <th>NO rebalanceo Marzo 2017</th>\n",
       "      <td>-4.111494</td>\n",
       "      <td>-0.301854</td>\n",
       "      <td>1.244761</td>\n",
       "      <td>-2.517061</td>\n",
       "      <td>-1.777430</td>\n",
       "      <td>-3.718155</td>\n",
       "      <td>2.386147</td>\n",
       "      <td>-0.295289</td>\n",
       "      <td>7.435020</td>\n",
       "      <td>-1.316157</td>\n",
       "      <td>0.801461</td>\n",
       "      <td>-3.932313</td>\n",
       "    </tr>\n",
       "    <tr>\n",
       "      <th>Rebalanceo Abril 2017</th>\n",
       "      <td>-4.111494</td>\n",
       "      <td>-0.300548</td>\n",
       "      <td>1.248181</td>\n",
       "      <td>-2.517995</td>\n",
       "      <td>-1.780002</td>\n",
       "      <td>-3.718089</td>\n",
       "      <td>2.386870</td>\n",
       "      <td>-0.295424</td>\n",
       "      <td>7.435385</td>\n",
       "      <td>-1.315065</td>\n",
       "      <td>0.803535</td>\n",
       "      <td>-3.932131</td>\n",
       "    </tr>\n",
       "    <tr>\n",
       "      <th>Rebalanceo Mayo 2017</th>\n",
       "      <td>-4.111494</td>\n",
       "      <td>-0.301854</td>\n",
       "      <td>1.249193</td>\n",
       "      <td>-2.514870</td>\n",
       "      <td>-1.779173</td>\n",
       "      <td>-3.721706</td>\n",
       "      <td>2.390860</td>\n",
       "      <td>-0.299211</td>\n",
       "      <td>7.436823</td>\n",
       "      <td>-1.310936</td>\n",
       "      <td>0.805331</td>\n",
       "      <td>-3.933412</td>\n",
       "    </tr>\n",
       "    <tr>\n",
       "      <th>Rebalanceo Junio 2017</th>\n",
       "      <td>-4.111494</td>\n",
       "      <td>-0.301854</td>\n",
       "      <td>1.244761</td>\n",
       "      <td>-2.511148</td>\n",
       "      <td>-1.780442</td>\n",
       "      <td>-3.725942</td>\n",
       "      <td>2.386273</td>\n",
       "      <td>-0.301059</td>\n",
       "      <td>7.436488</td>\n",
       "      <td>-1.312956</td>\n",
       "      <td>0.805481</td>\n",
       "      <td>-3.931674</td>\n",
       "    </tr>\n",
       "    <tr>\n",
       "      <th>Rebalanceo Julio 2017</th>\n",
       "      <td>-4.111494</td>\n",
       "      <td>-0.301854</td>\n",
       "      <td>1.244761</td>\n",
       "      <td>-2.517061</td>\n",
       "      <td>-1.777566</td>\n",
       "      <td>-3.726368</td>\n",
       "      <td>2.390053</td>\n",
       "      <td>-0.300777</td>\n",
       "      <td>7.436647</td>\n",
       "      <td>-1.311136</td>\n",
       "      <td>0.803727</td>\n",
       "      <td>-3.933221</td>\n",
       "    </tr>\n",
       "    <tr>\n",
       "      <th>Rebalanceo Agosto 2017</th>\n",
       "      <td>-4.111494</td>\n",
       "      <td>-0.301854</td>\n",
       "      <td>1.244761</td>\n",
       "      <td>-2.517061</td>\n",
       "      <td>-1.777430</td>\n",
       "      <td>-3.727680</td>\n",
       "      <td>2.393434</td>\n",
       "      <td>-0.303026</td>\n",
       "      <td>7.437833</td>\n",
       "      <td>-1.308138</td>\n",
       "      <td>0.804460</td>\n",
       "      <td>-3.934092</td>\n",
       "    </tr>\n",
       "    <tr>\n",
       "      <th>Rebalanceo Septiembre 2017</th>\n",
       "      <td>-4.111494</td>\n",
       "      <td>-0.301854</td>\n",
       "      <td>1.244761</td>\n",
       "      <td>-2.517061</td>\n",
       "      <td>-1.777430</td>\n",
       "      <td>-3.718155</td>\n",
       "      <td>3.367249</td>\n",
       "      <td>-0.308235</td>\n",
       "      <td>7.436504</td>\n",
       "      <td>-1.309684</td>\n",
       "      <td>0.804960</td>\n",
       "      <td>-3.933139</td>\n",
       "    </tr>\n",
       "    <tr>\n",
       "      <th>Rebalanceo Octubre 2017</th>\n",
       "      <td>-4.111494</td>\n",
       "      <td>-0.301854</td>\n",
       "      <td>1.244761</td>\n",
       "      <td>-2.517061</td>\n",
       "      <td>-1.777430</td>\n",
       "      <td>-3.718155</td>\n",
       "      <td>2.386147</td>\n",
       "      <td>-0.308476</td>\n",
       "      <td>7.437826</td>\n",
       "      <td>-1.306543</td>\n",
       "      <td>0.805661</td>\n",
       "      <td>-3.934409</td>\n",
       "    </tr>\n",
       "    <tr>\n",
       "      <th>Rebalanceo Noviembre 2017</th>\n",
       "      <td>-4.111494</td>\n",
       "      <td>-0.301854</td>\n",
       "      <td>1.244761</td>\n",
       "      <td>-2.517061</td>\n",
       "      <td>-1.777430</td>\n",
       "      <td>-3.718155</td>\n",
       "      <td>2.386147</td>\n",
       "      <td>-0.295289</td>\n",
       "      <td>7.121865</td>\n",
       "      <td>-1.163587</td>\n",
       "      <td>0.830913</td>\n",
       "      <td>-3.954016</td>\n",
       "    </tr>\n",
       "    <tr>\n",
       "      <th>Rebalanceo Diciembre 2017</th>\n",
       "      <td>-4.111494</td>\n",
       "      <td>-0.301854</td>\n",
       "      <td>1.244761</td>\n",
       "      <td>-2.517061</td>\n",
       "      <td>-1.777430</td>\n",
       "      <td>-3.718155</td>\n",
       "      <td>2.386147</td>\n",
       "      <td>-0.295289</td>\n",
       "      <td>7.435020</td>\n",
       "      <td>-1.159425</td>\n",
       "      <td>0.834776</td>\n",
       "      <td>-3.952462</td>\n",
       "    </tr>\n",
       "    <tr>\n",
       "      <th>Rebalanceo Enero 2018</th>\n",
       "      <td>-4.111494</td>\n",
       "      <td>-0.301854</td>\n",
       "      <td>1.244761</td>\n",
       "      <td>-2.517061</td>\n",
       "      <td>-1.777430</td>\n",
       "      <td>-3.718155</td>\n",
       "      <td>2.386147</td>\n",
       "      <td>-0.295289</td>\n",
       "      <td>7.435020</td>\n",
       "      <td>-1.316157</td>\n",
       "      <td>0.830913</td>\n",
       "      <td>-3.954016</td>\n",
       "    </tr>\n",
       "    <tr>\n",
       "      <th>Rebalanceo Febrero 2018</th>\n",
       "      <td>-4.111494</td>\n",
       "      <td>-0.301854</td>\n",
       "      <td>1.244761</td>\n",
       "      <td>-2.517061</td>\n",
       "      <td>-1.777430</td>\n",
       "      <td>-3.718155</td>\n",
       "      <td>2.386147</td>\n",
       "      <td>-0.295289</td>\n",
       "      <td>7.435020</td>\n",
       "      <td>-1.316157</td>\n",
       "      <td>0.801461</td>\n",
       "      <td>-3.953627</td>\n",
       "    </tr>\n",
       "  </tbody>\n",
       "</table>\n",
       "</div>"
      ],
      "text/plain": [
       "                                 Mar       Apr       May       Jun       Jul  \\\n",
       "NO rebalanceo Marzo 2017   -4.111494 -0.301854  1.244761 -2.517061 -1.777430   \n",
       "Rebalanceo Abril 2017      -4.111494 -0.300548  1.248181 -2.517995 -1.780002   \n",
       "Rebalanceo Mayo 2017       -4.111494 -0.301854  1.249193 -2.514870 -1.779173   \n",
       "Rebalanceo Junio 2017      -4.111494 -0.301854  1.244761 -2.511148 -1.780442   \n",
       "Rebalanceo Julio 2017      -4.111494 -0.301854  1.244761 -2.517061 -1.777566   \n",
       "Rebalanceo Agosto 2017     -4.111494 -0.301854  1.244761 -2.517061 -1.777430   \n",
       "Rebalanceo Septiembre 2017 -4.111494 -0.301854  1.244761 -2.517061 -1.777430   \n",
       "Rebalanceo Octubre 2017    -4.111494 -0.301854  1.244761 -2.517061 -1.777430   \n",
       "Rebalanceo Noviembre 2017  -4.111494 -0.301854  1.244761 -2.517061 -1.777430   \n",
       "Rebalanceo Diciembre 2017  -4.111494 -0.301854  1.244761 -2.517061 -1.777430   \n",
       "Rebalanceo Enero 2018      -4.111494 -0.301854  1.244761 -2.517061 -1.777430   \n",
       "Rebalanceo Febrero 2018    -4.111494 -0.301854  1.244761 -2.517061 -1.777430   \n",
       "\n",
       "                                 Aug       Sep       Oct       Nov      Dec   \\\n",
       "NO rebalanceo Marzo 2017   -3.718155  2.386147 -0.295289  7.435020 -1.316157   \n",
       "Rebalanceo Abril 2017      -3.718089  2.386870 -0.295424  7.435385 -1.315065   \n",
       "Rebalanceo Mayo 2017       -3.721706  2.390860 -0.299211  7.436823 -1.310936   \n",
       "Rebalanceo Junio 2017      -3.725942  2.386273 -0.301059  7.436488 -1.312956   \n",
       "Rebalanceo Julio 2017      -3.726368  2.390053 -0.300777  7.436647 -1.311136   \n",
       "Rebalanceo Agosto 2017     -3.727680  2.393434 -0.303026  7.437833 -1.308138   \n",
       "Rebalanceo Septiembre 2017 -3.718155  3.367249 -0.308235  7.436504 -1.309684   \n",
       "Rebalanceo Octubre 2017    -3.718155  2.386147 -0.308476  7.437826 -1.306543   \n",
       "Rebalanceo Noviembre 2017  -3.718155  2.386147 -0.295289  7.121865 -1.163587   \n",
       "Rebalanceo Diciembre 2017  -3.718155  2.386147 -0.295289  7.435020 -1.159425   \n",
       "Rebalanceo Enero 2018      -3.718155  2.386147 -0.295289  7.435020 -1.316157   \n",
       "Rebalanceo Febrero 2018    -3.718155  2.386147 -0.295289  7.435020 -1.316157   \n",
       "\n",
       "                            Jan 2018  Feb 2018  \n",
       "NO rebalanceo Marzo 2017    0.801461 -3.932313  \n",
       "Rebalanceo Abril 2017       0.803535 -3.932131  \n",
       "Rebalanceo Mayo 2017        0.805331 -3.933412  \n",
       "Rebalanceo Junio 2017       0.805481 -3.931674  \n",
       "Rebalanceo Julio 2017       0.803727 -3.933221  \n",
       "Rebalanceo Agosto 2017      0.804460 -3.934092  \n",
       "Rebalanceo Septiembre 2017  0.804960 -3.933139  \n",
       "Rebalanceo Octubre 2017     0.805661 -3.934409  \n",
       "Rebalanceo Noviembre 2017   0.830913 -3.954016  \n",
       "Rebalanceo Diciembre 2017   0.834776 -3.952462  \n",
       "Rebalanceo Enero 2018       0.830913 -3.954016  \n",
       "Rebalanceo Febrero 2018     0.801461 -3.953627  "
      ]
     },
     "execution_count": 72,
     "metadata": {},
     "output_type": "execute_result"
    }
   ],
   "source": [
    "\n",
    "df = pd.DataFrame({'NO rebalanceo Marzo 2017':sh[0]\n",
    "                    ,'Rebalanceo Abril 2017':sh[1]\n",
    "                   ,'Rebalanceo Mayo 2017':sh[2]\n",
    "                  ,'Rebalanceo Junio 2017':sh[3]\n",
    "                  ,'Rebalanceo Julio 2017':sh[4]\n",
    "                  ,'Rebalanceo Agosto 2017':sh[5]\n",
    "                  ,'Rebalanceo Septiembre 2017':sh[6]\n",
    "                  ,'Rebalanceo Octubre 2017':sh[7]\n",
    "                  ,'Rebalanceo Noviembre 2017':sh[8]\n",
    "                  ,'Rebalanceo Diciembre 2017':sh[9]  \n",
    "                  ,'Rebalanceo Enero 2018':sh[10]\n",
    "                  ,'Rebalanceo Febrero 2018':sh[11]})\n",
    "\n",
    "\n",
    "c = [['NO rebalanceo Marzo 2017','Rebalanceo Abril 2017','Rebalanceo Mayo 2017','Rebalanceo Junio 2017','Rebalanceo Julio 2017',\n",
    "      'Rebalanceo Agosto 2017','Rebalanceo Septiembre 2017','Rebalanceo Octubre 2017','Rebalanceo Noviembre 2017',\n",
    "      'Rebalanceo Diciembre 2017','Rebalanceo Enero 2018','Rebalanceo Febrero 2018']]\n",
    "\n",
    "index_ = [\"Mar\", \"Apr\", \"May\", \"Jun\", \"Jul\", \"Aug\", \"Sep\", \"Oct\", \"Nov\", \"Dec \", \"Jan 2018\",\"Feb 2018\"] \n",
    "\n",
    "#index_ = ('Marzo 2017', 'Abril 2017','Mayo 2017','Junio 2017','Julio 2017','Agosto 2017','Septiembre 2017','Octubre 2017','Noviembre 2017','Diciembre 2017','Enero 2018','Febrero 2018') \n",
    "df.index = index_ \n",
    "\n",
    "df.transpose()"
   ]
  },
  {
   "cell_type": "code",
   "execution_count": 73,
   "metadata": {},
   "outputs": [
    {
     "data": {
      "text/html": [
       "<style  type=\"text/css\" >\n",
       "    #T_3da97f52_d58e_11e9_8bbb_0019d2e68385row8_col0 {\n",
       "            background-color:  yellow;\n",
       "        }    #T_3da97f52_d58e_11e9_8bbb_0019d2e68385row8_col1 {\n",
       "            background-color:  yellow;\n",
       "        }</style>  \n",
       "<table id=\"T_3da97f52_d58e_11e9_8bbb_0019d2e68385\" > \n",
       "<thead>    <tr> \n",
       "        <th class=\"blank level0\" ></th> \n",
       "        <th class=\"col_heading level0 col0\" >Sharpe anual</th> \n",
       "        <th class=\"col_heading level0 col1\" >nav anual</th> \n",
       "    </tr></thead> \n",
       "<tbody>    <tr> \n",
       "        <th id=\"T_3da97f52_d58e_11e9_8bbb_0019d2e68385level0_row0\" class=\"row_heading level0 row0\" >Sin rebalanceo</th> \n",
       "        <td id=\"T_3da97f52_d58e_11e9_8bbb_0019d2e68385row0_col0\" class=\"data row0 col0\" >5.29007</td> \n",
       "        <td id=\"T_3da97f52_d58e_11e9_8bbb_0019d2e68385row0_col1\" class=\"data row0 col1\" >0.0515589</td> \n",
       "    </tr>    <tr> \n",
       "        <th id=\"T_3da97f52_d58e_11e9_8bbb_0019d2e68385level0_row1\" class=\"row_heading level0 row1\" >rebalanceo Apr</th> \n",
       "        <td id=\"T_3da97f52_d58e_11e9_8bbb_0019d2e68385row1_col0\" class=\"data row1 col0\" >6.22598</td> \n",
       "        <td id=\"T_3da97f52_d58e_11e9_8bbb_0019d2e68385row1_col1\" class=\"data row1 col1\" >0.0570169</td> \n",
       "    </tr>    <tr> \n",
       "        <th id=\"T_3da97f52_d58e_11e9_8bbb_0019d2e68385level0_row2\" class=\"row_heading level0 row2\" >rebalanceo May</th> \n",
       "        <td id=\"T_3da97f52_d58e_11e9_8bbb_0019d2e68385row2_col0\" class=\"data row2 col0\" >6.17029</td> \n",
       "        <td id=\"T_3da97f52_d58e_11e9_8bbb_0019d2e68385row2_col1\" class=\"data row2 col1\" >0.0566944</td> \n",
       "    </tr>    <tr> \n",
       "        <th id=\"T_3da97f52_d58e_11e9_8bbb_0019d2e68385level0_row3\" class=\"row_heading level0 row3\" >rebalanceo Jun</th> \n",
       "        <td id=\"T_3da97f52_d58e_11e9_8bbb_0019d2e68385row3_col0\" class=\"data row3 col0\" >5.4038</td> \n",
       "        <td id=\"T_3da97f52_d58e_11e9_8bbb_0019d2e68385row3_col1\" class=\"data row3 col1\" >0.0522286</td> \n",
       "    </tr>    <tr> \n",
       "        <th id=\"T_3da97f52_d58e_11e9_8bbb_0019d2e68385level0_row4\" class=\"row_heading level0 row4\" >rebalanceo Jul</th> \n",
       "        <td id=\"T_3da97f52_d58e_11e9_8bbb_0019d2e68385row4_col0\" class=\"data row4 col0\" >5.88828</td> \n",
       "        <td id=\"T_3da97f52_d58e_11e9_8bbb_0019d2e68385row4_col1\" class=\"data row4 col1\" >0.0550545</td> \n",
       "    </tr>    <tr> \n",
       "        <th id=\"T_3da97f52_d58e_11e9_8bbb_0019d2e68385level0_row5\" class=\"row_heading level0 row5\" >rebalanceo Aug</th> \n",
       "        <td id=\"T_3da97f52_d58e_11e9_8bbb_0019d2e68385row5_col0\" class=\"data row5 col0\" >6.31492</td> \n",
       "        <td id=\"T_3da97f52_d58e_11e9_8bbb_0019d2e68385row5_col1\" class=\"data row5 col1\" >0.0575439</td> \n",
       "    </tr>    <tr> \n",
       "        <th id=\"T_3da97f52_d58e_11e9_8bbb_0019d2e68385level0_row6\" class=\"row_heading level0 row6\" >rebalanceo Sep</th> \n",
       "        <td id=\"T_3da97f52_d58e_11e9_8bbb_0019d2e68385row6_col0\" class=\"data row6 col0\" >5.92743</td> \n",
       "        <td id=\"T_3da97f52_d58e_11e9_8bbb_0019d2e68385row6_col1\" class=\"data row6 col1\" >0.0552672</td> \n",
       "    </tr>    <tr> \n",
       "        <th id=\"T_3da97f52_d58e_11e9_8bbb_0019d2e68385level0_row7\" class=\"row_heading level0 row7\" >rebalanceo Oct</th> \n",
       "        <td id=\"T_3da97f52_d58e_11e9_8bbb_0019d2e68385row7_col0\" class=\"data row7 col0\" >6.38579</td> \n",
       "        <td id=\"T_3da97f52_d58e_11e9_8bbb_0019d2e68385row7_col1\" class=\"data row7 col1\" >0.0579588</td> \n",
       "    </tr>    <tr> \n",
       "        <th id=\"T_3da97f52_d58e_11e9_8bbb_0019d2e68385level0_row8\" class=\"row_heading level0 row8\" >rebalanceo Nov</th> \n",
       "        <td id=\"T_3da97f52_d58e_11e9_8bbb_0019d2e68385row8_col0\" class=\"data row8 col0\" >6.61792</td> \n",
       "        <td id=\"T_3da97f52_d58e_11e9_8bbb_0019d2e68385row8_col1\" class=\"data row8 col1\" >0.0593442</td> \n",
       "    </tr>    <tr> \n",
       "        <th id=\"T_3da97f52_d58e_11e9_8bbb_0019d2e68385level0_row9\" class=\"row_heading level0 row9\" >rebalanceo Dec </th> \n",
       "        <td id=\"T_3da97f52_d58e_11e9_8bbb_0019d2e68385row9_col0\" class=\"data row9 col0\" >5.65119</td> \n",
       "        <td id=\"T_3da97f52_d58e_11e9_8bbb_0019d2e68385row9_col1\" class=\"data row9 col1\" >0.0537094</td> \n",
       "    </tr>    <tr> \n",
       "        <th id=\"T_3da97f52_d58e_11e9_8bbb_0019d2e68385level0_row10\" class=\"row_heading level0 row10\" >rebalanceo Jan 2018</th> \n",
       "        <td id=\"T_3da97f52_d58e_11e9_8bbb_0019d2e68385row10_col0\" class=\"data row10 col0\" >-0.919067</td> \n",
       "        <td id=\"T_3da97f52_d58e_11e9_8bbb_0019d2e68385row10_col1\" class=\"data row10 col1\" >0.0153341</td> \n",
       "    </tr>    <tr> \n",
       "        <th id=\"T_3da97f52_d58e_11e9_8bbb_0019d2e68385level0_row11\" class=\"row_heading level0 row11\" >rebalanceo Feb 2018</th> \n",
       "        <td id=\"T_3da97f52_d58e_11e9_8bbb_0019d2e68385row11_col0\" class=\"data row11 col0\" >-1.14472</td> \n",
       "        <td id=\"T_3da97f52_d58e_11e9_8bbb_0019d2e68385row11_col1\" class=\"data row11 col1\" >0.0140147</td> \n",
       "    </tr></tbody> \n",
       "</table> "
      ],
      "text/plain": [
       "<pandas.io.formats.style.Styler at 0x229fae94550>"
      ]
     },
     "execution_count": 73,
     "metadata": {},
     "output_type": "execute_result"
    }
   ],
   "source": [
    "def highlight_max(s):\n",
    "    '''\n",
    "    highlight the maximum in a Series yellow.\n",
    "    '''\n",
    "    is_max = s == s.max()\n",
    "    return ['background-color: yellow' if v else '' for v in is_max]\n",
    "\n",
    "\n",
    "df = pd.DataFrame({\"Sharpe anual\":shanual,'nav anual':rendanualnav})\n",
    "index_ = [\"Sin rebalanceo\", \"rebalanceo Apr\", \"rebalanceo May\", \"rebalanceo Jun\", \"rebalanceo Jul\", \"rebalanceo Aug\", \"rebalanceo Sep\", \"rebalanceo Oct\", \"rebalanceo Nov\", \"rebalanceo Dec \", \"rebalanceo Jan 2018\",\"rebalanceo Feb 2018\"] \n",
    "\n",
    "#index_ = ('Marzo 2017', 'Abril 2017','Mayo 2017','Junio 2017','Julio 2017','Agosto 2017','Septiembre 2017','Octubre 2017','Noviembre 2017','Diciembre 2017','Enero 2018','Febrero 2018') \n",
    "df.index = index_ \n",
    "df.style.apply(highlight_max)"
   ]
  },
  {
   "cell_type": "code",
   "execution_count": 74,
   "metadata": {},
   "outputs": [
    {
     "data": {
      "text/html": [
       "<div>\n",
       "<style scoped>\n",
       "    .dataframe tbody tr th:only-of-type {\n",
       "        vertical-align: middle;\n",
       "    }\n",
       "\n",
       "    .dataframe tbody tr th {\n",
       "        vertical-align: top;\n",
       "    }\n",
       "\n",
       "    .dataframe thead th {\n",
       "        text-align: right;\n",
       "    }\n",
       "</style>\n",
       "<table border=\"1\" class=\"dataframe\">\n",
       "  <thead>\n",
       "    <tr style=\"text-align: right;\">\n",
       "      <th></th>\n",
       "      <th>Rendimiento</th>\n",
       "      <th>vol</th>\n",
       "      <th>Sharpe</th>\n",
       "    </tr>\n",
       "  </thead>\n",
       "  <tbody>\n",
       "    <tr>\n",
       "      <th>0</th>\n",
       "      <td>-0.014955</td>\n",
       "      <td>0.004756</td>\n",
       "      <td>-4.111494</td>\n",
       "    </tr>\n",
       "    <tr>\n",
       "      <th>1</th>\n",
       "      <td>0.005786</td>\n",
       "      <td>0.005015</td>\n",
       "      <td>-0.301854</td>\n",
       "    </tr>\n",
       "    <tr>\n",
       "      <th>2</th>\n",
       "      <td>0.012194</td>\n",
       "      <td>0.004414</td>\n",
       "      <td>1.244761</td>\n",
       "    </tr>\n",
       "    <tr>\n",
       "      <th>3</th>\n",
       "      <td>-0.002983</td>\n",
       "      <td>0.004443</td>\n",
       "      <td>-2.517061</td>\n",
       "    </tr>\n",
       "    <tr>\n",
       "      <th>4</th>\n",
       "      <td>0.001854</td>\n",
       "      <td>0.004358</td>\n",
       "      <td>-1.777430</td>\n",
       "    </tr>\n",
       "    <tr>\n",
       "      <th>5</th>\n",
       "      <td>-0.007350</td>\n",
       "      <td>0.004666</td>\n",
       "      <td>-3.718155</td>\n",
       "    </tr>\n",
       "    <tr>\n",
       "      <th>6</th>\n",
       "      <td>0.017543</td>\n",
       "      <td>0.003329</td>\n",
       "      <td>2.386147</td>\n",
       "    </tr>\n",
       "    <tr>\n",
       "      <th>7</th>\n",
       "      <td>0.008664</td>\n",
       "      <td>0.002830</td>\n",
       "      <td>-0.295289</td>\n",
       "    </tr>\n",
       "    <tr>\n",
       "      <th>8</th>\n",
       "      <td>0.041079</td>\n",
       "      <td>0.004099</td>\n",
       "      <td>7.435020</td>\n",
       "    </tr>\n",
       "    <tr>\n",
       "      <th>9</th>\n",
       "      <td>0.005618</td>\n",
       "      <td>0.004393</td>\n",
       "      <td>-1.316157</td>\n",
       "    </tr>\n",
       "    <tr>\n",
       "      <th>10</th>\n",
       "      <td>0.017495</td>\n",
       "      <td>0.005531</td>\n",
       "      <td>0.830913</td>\n",
       "    </tr>\n",
       "    <tr>\n",
       "      <th>11</th>\n",
       "      <td>-0.042018</td>\n",
       "      <td>0.014193</td>\n",
       "      <td>-3.954016</td>\n",
       "    </tr>\n",
       "  </tbody>\n",
       "</table>\n",
       "</div>"
      ],
      "text/plain": [
       "    Rendimiento       vol    Sharpe\n",
       "0     -0.014955  0.004756 -4.111494\n",
       "1      0.005786  0.005015 -0.301854\n",
       "2      0.012194  0.004414  1.244761\n",
       "3     -0.002983  0.004443 -2.517061\n",
       "4      0.001854  0.004358 -1.777430\n",
       "5     -0.007350  0.004666 -3.718155\n",
       "6      0.017543  0.003329  2.386147\n",
       "7      0.008664  0.002830 -0.295289\n",
       "8      0.041079  0.004099  7.435020\n",
       "9      0.005618  0.004393 -1.316157\n",
       "10     0.017495  0.005531  0.830913\n",
       "11    -0.042018  0.014193 -3.954016"
      ]
     },
     "execution_count": 74,
     "metadata": {},
     "output_type": "execute_result"
    }
   ],
   "source": [
    "tabla(rendnavsmes,volxmes,sh,10)"
   ]
  },
  {
   "cell_type": "markdown",
   "metadata": {},
   "source": [
    "# Valor esperado"
   ]
  },
  {
   "cell_type": "code",
   "execution_count": 75,
   "metadata": {},
   "outputs": [],
   "source": [
    "rendmes2017 = mes(rtw2017)\n",
    "rendmes2018 = mes(rtw2018)"
   ]
  },
  {
   "cell_type": "code",
   "execution_count": 76,
   "metadata": {},
   "outputs": [],
   "source": [
    "mediaxmes2017=media(rendmes2017)\n",
    "mediaxmes2018=media(rendmes2018)"
   ]
  },
  {
   "cell_type": "code",
   "execution_count": 77,
   "metadata": {},
   "outputs": [],
   "source": [
    "volxmes = vol(navdiario)"
   ]
  },
  {
   "cell_type": "code",
   "execution_count": 78,
   "metadata": {},
   "outputs": [],
   "source": [
    "r2017 = rendxpeso(mediaxmes2017,tw2017)\n",
    "r2018 = rendxpeso(mediaxmes2018,tw2018)"
   ]
  },
  {
   "cell_type": "code",
   "execution_count": 79,
   "metadata": {},
   "outputs": [],
   "source": [
    "r = r2017 + r2018"
   ]
  },
  {
   "cell_type": "code",
   "execution_count": 80,
   "metadata": {},
   "outputs": [
    {
     "data": {
      "text/html": [
       "<style  type=\"text/css\" >\n",
       "</style>  \n",
       "<table id=\"T_492553ba_d58e_11e9_bbe6_0019d2e68385\" > \n",
       "<thead>    <tr> \n",
       "        <th class=\"blank level0\" ></th> \n",
       "        <th class=\"col_heading level0 col0\" >Mar</th> \n",
       "        <th class=\"col_heading level0 col1\" >Apr</th> \n",
       "        <th class=\"col_heading level0 col2\" >May</th> \n",
       "        <th class=\"col_heading level0 col3\" >Jun</th> \n",
       "        <th class=\"col_heading level0 col4\" >Jul</th> \n",
       "        <th class=\"col_heading level0 col5\" >Aug</th> \n",
       "        <th class=\"col_heading level0 col6\" >Sep</th> \n",
       "        <th class=\"col_heading level0 col7\" >Oct</th> \n",
       "        <th class=\"col_heading level0 col8\" >Nov</th> \n",
       "        <th class=\"col_heading level0 col9\" >Dec</th> \n",
       "        <th class=\"col_heading level0 col10\" >Jan 2018</th> \n",
       "        <th class=\"col_heading level0 col11\" >Feb 2018</th> \n",
       "        <th class=\"col_heading level0 col12\" >Mar 2018</th> \n",
       "    </tr></thead> \n",
       "<tbody>    <tr> \n",
       "        <th id=\"T_492553ba_d58e_11e9_bbe6_0019d2e68385level0_row0\" class=\"row_heading level0 row0\" >NO rebalanceo Marzo 2017</th> \n",
       "        <td id=\"T_492553ba_d58e_11e9_bbe6_0019d2e68385row0_col0\" class=\"data row0 col0\" >-0.0640015</td> \n",
       "        <td id=\"T_492553ba_d58e_11e9_bbe6_0019d2e68385row0_col1\" class=\"data row0 col1\" >0.0192303</td> \n",
       "        <td id=\"T_492553ba_d58e_11e9_bbe6_0019d2e68385row0_col2\" class=\"data row0 col2\" >0.0253608</td> \n",
       "        <td id=\"T_492553ba_d58e_11e9_bbe6_0019d2e68385row0_col3\" class=\"data row0 col3\" >0.0343841</td> \n",
       "        <td id=\"T_492553ba_d58e_11e9_bbe6_0019d2e68385row0_col4\" class=\"data row0 col4\" >0.0248256</td> \n",
       "        <td id=\"T_492553ba_d58e_11e9_bbe6_0019d2e68385row0_col5\" class=\"data row0 col5\" >-0.0427118</td> \n",
       "        <td id=\"T_492553ba_d58e_11e9_bbe6_0019d2e68385row0_col6\" class=\"data row0 col6\" >0.124374</td> \n",
       "        <td id=\"T_492553ba_d58e_11e9_bbe6_0019d2e68385row0_col7\" class=\"data row0 col7\" >0.0394824</td> \n",
       "        <td id=\"T_492553ba_d58e_11e9_bbe6_0019d2e68385row0_col8\" class=\"data row0 col8\" >0.18871</td> \n",
       "        <td id=\"T_492553ba_d58e_11e9_bbe6_0019d2e68385row0_col9\" class=\"data row0 col9\" >-0.00402921</td> \n",
       "        <td id=\"T_492553ba_d58e_11e9_bbe6_0019d2e68385row0_col10\" class=\"data row0 col10\" >0.0727071</td> \n",
       "        <td id=\"T_492553ba_d58e_11e9_bbe6_0019d2e68385row0_col11\" class=\"data row0 col11\" >-0.249056</td> \n",
       "        <td id=\"T_492553ba_d58e_11e9_bbe6_0019d2e68385row0_col12\" class=\"data row0 col12\" >-0.904968</td> \n",
       "    </tr>    <tr> \n",
       "        <th id=\"T_492553ba_d58e_11e9_bbe6_0019d2e68385level0_row1\" class=\"row_heading level0 row1\" >Rebalanceo Abril 2017</th> \n",
       "        <td id=\"T_492553ba_d58e_11e9_bbe6_0019d2e68385row1_col0\" class=\"data row1 col0\" >-0.0640015</td> \n",
       "        <td id=\"T_492553ba_d58e_11e9_bbe6_0019d2e68385row1_col1\" class=\"data row1 col1\" >0.0597777</td> \n",
       "        <td id=\"T_492553ba_d58e_11e9_bbe6_0019d2e68385row1_col2\" class=\"data row1 col2\" >0.0280138</td> \n",
       "        <td id=\"T_492553ba_d58e_11e9_bbe6_0019d2e68385row1_col3\" class=\"data row1 col3\" >0.0347515</td> \n",
       "        <td id=\"T_492553ba_d58e_11e9_bbe6_0019d2e68385row1_col4\" class=\"data row1 col4\" >0.024376</td> \n",
       "        <td id=\"T_492553ba_d58e_11e9_bbe6_0019d2e68385row1_col5\" class=\"data row1 col5\" >-0.0411714</td> \n",
       "        <td id=\"T_492553ba_d58e_11e9_bbe6_0019d2e68385row1_col6\" class=\"data row1 col6\" >0.121767</td> \n",
       "        <td id=\"T_492553ba_d58e_11e9_bbe6_0019d2e68385row1_col7\" class=\"data row1 col7\" >0.0413771</td> \n",
       "        <td id=\"T_492553ba_d58e_11e9_bbe6_0019d2e68385row1_col8\" class=\"data row1 col8\" >0.186124</td> \n",
       "        <td id=\"T_492553ba_d58e_11e9_bbe6_0019d2e68385row1_col9\" class=\"data row1 col9\" >-0.00375992</td> \n",
       "        <td id=\"T_492553ba_d58e_11e9_bbe6_0019d2e68385row1_col10\" class=\"data row1 col10\" >0.0673185</td> \n",
       "        <td id=\"T_492553ba_d58e_11e9_bbe6_0019d2e68385row1_col11\" class=\"data row1 col11\" >-0.250736</td> \n",
       "        <td id=\"T_492553ba_d58e_11e9_bbe6_0019d2e68385row1_col12\" class=\"data row1 col12\" >-0.933869</td> \n",
       "    </tr>    <tr> \n",
       "        <th id=\"T_492553ba_d58e_11e9_bbe6_0019d2e68385level0_row2\" class=\"row_heading level0 row2\" >Rebalanceo Mayo 2017</th> \n",
       "        <td id=\"T_492553ba_d58e_11e9_bbe6_0019d2e68385row2_col0\" class=\"data row2 col0\" >-0.0640015</td> \n",
       "        <td id=\"T_492553ba_d58e_11e9_bbe6_0019d2e68385row2_col1\" class=\"data row2 col1\" >0.0192303</td> \n",
       "        <td id=\"T_492553ba_d58e_11e9_bbe6_0019d2e68385row2_col2\" class=\"data row2 col2\" >0.062309</td> \n",
       "        <td id=\"T_492553ba_d58e_11e9_bbe6_0019d2e68385row2_col3\" class=\"data row2 col3\" >0.0304431</td> \n",
       "        <td id=\"T_492553ba_d58e_11e9_bbe6_0019d2e68385row2_col4\" class=\"data row2 col4\" >0.0238414</td> \n",
       "        <td id=\"T_492553ba_d58e_11e9_bbe6_0019d2e68385row2_col5\" class=\"data row2 col5\" >-0.0353716</td> \n",
       "        <td id=\"T_492553ba_d58e_11e9_bbe6_0019d2e68385row2_col6\" class=\"data row2 col6\" >0.112341</td> \n",
       "        <td id=\"T_492553ba_d58e_11e9_bbe6_0019d2e68385row2_col7\" class=\"data row2 col7\" >0.0443588</td> \n",
       "        <td id=\"T_492553ba_d58e_11e9_bbe6_0019d2e68385row2_col8\" class=\"data row2 col8\" >0.182388</td> \n",
       "        <td id=\"T_492553ba_d58e_11e9_bbe6_0019d2e68385row2_col9\" class=\"data row2 col9\" >-0.0088993</td> \n",
       "        <td id=\"T_492553ba_d58e_11e9_bbe6_0019d2e68385row2_col10\" class=\"data row2 col10\" >0.0659445</td> \n",
       "        <td id=\"T_492553ba_d58e_11e9_bbe6_0019d2e68385row2_col11\" class=\"data row2 col11\" >-0.249863</td> \n",
       "        <td id=\"T_492553ba_d58e_11e9_bbe6_0019d2e68385row2_col12\" class=\"data row2 col12\" >-0.92654</td> \n",
       "    </tr>    <tr> \n",
       "        <th id=\"T_492553ba_d58e_11e9_bbe6_0019d2e68385level0_row3\" class=\"row_heading level0 row3\" >Rebalanceo Junio 2017</th> \n",
       "        <td id=\"T_492553ba_d58e_11e9_bbe6_0019d2e68385row3_col0\" class=\"data row3 col0\" >-0.0640015</td> \n",
       "        <td id=\"T_492553ba_d58e_11e9_bbe6_0019d2e68385row3_col1\" class=\"data row3 col1\" >0.0192303</td> \n",
       "        <td id=\"T_492553ba_d58e_11e9_bbe6_0019d2e68385row3_col2\" class=\"data row3 col2\" >0.0253608</td> \n",
       "        <td id=\"T_492553ba_d58e_11e9_bbe6_0019d2e68385row3_col3\" class=\"data row3 col3\" >-0.0100193</td> \n",
       "        <td id=\"T_492553ba_d58e_11e9_bbe6_0019d2e68385row3_col4\" class=\"data row3 col4\" >0.0244033</td> \n",
       "        <td id=\"T_492553ba_d58e_11e9_bbe6_0019d2e68385row3_col5\" class=\"data row3 col5\" >-0.0376475</td> \n",
       "        <td id=\"T_492553ba_d58e_11e9_bbe6_0019d2e68385row3_col6\" class=\"data row3 col6\" >0.118466</td> \n",
       "        <td id=\"T_492553ba_d58e_11e9_bbe6_0019d2e68385row3_col7\" class=\"data row3 col7\" >0.0434014</td> \n",
       "        <td id=\"T_492553ba_d58e_11e9_bbe6_0019d2e68385row3_col8\" class=\"data row3 col8\" >0.186513</td> \n",
       "        <td id=\"T_492553ba_d58e_11e9_bbe6_0019d2e68385row3_col9\" class=\"data row3 col9\" >-0.00404275</td> \n",
       "        <td id=\"T_492553ba_d58e_11e9_bbe6_0019d2e68385row3_col10\" class=\"data row3 col10\" >0.0668814</td> \n",
       "        <td id=\"T_492553ba_d58e_11e9_bbe6_0019d2e68385row3_col11\" class=\"data row3 col11\" >-0.250114</td> \n",
       "        <td id=\"T_492553ba_d58e_11e9_bbe6_0019d2e68385row3_col12\" class=\"data row3 col12\" >-0.936493</td> \n",
       "    </tr>    <tr> \n",
       "        <th id=\"T_492553ba_d58e_11e9_bbe6_0019d2e68385level0_row4\" class=\"row_heading level0 row4\" >Rebalanceo Julio 2017</th> \n",
       "        <td id=\"T_492553ba_d58e_11e9_bbe6_0019d2e68385row4_col0\" class=\"data row4 col0\" >-0.0640015</td> \n",
       "        <td id=\"T_492553ba_d58e_11e9_bbe6_0019d2e68385row4_col1\" class=\"data row4 col1\" >0.0192303</td> \n",
       "        <td id=\"T_492553ba_d58e_11e9_bbe6_0019d2e68385row4_col2\" class=\"data row4 col2\" >0.0253608</td> \n",
       "        <td id=\"T_492553ba_d58e_11e9_bbe6_0019d2e68385row4_col3\" class=\"data row4 col3\" >0.0343841</td> \n",
       "        <td id=\"T_492553ba_d58e_11e9_bbe6_0019d2e68385row4_col4\" class=\"data row4 col4\" >0.0182673</td> \n",
       "        <td id=\"T_492553ba_d58e_11e9_bbe6_0019d2e68385row4_col5\" class=\"data row4 col5\" >-0.0332769</td> \n",
       "        <td id=\"T_492553ba_d58e_11e9_bbe6_0019d2e68385row4_col6\" class=\"data row4 col6\" >0.117339</td> \n",
       "        <td id=\"T_492553ba_d58e_11e9_bbe6_0019d2e68385row4_col7\" class=\"data row4 col7\" >0.0446897</td> \n",
       "        <td id=\"T_492553ba_d58e_11e9_bbe6_0019d2e68385row4_col8\" class=\"data row4 col8\" >0.18343</td> \n",
       "        <td id=\"T_492553ba_d58e_11e9_bbe6_0019d2e68385row4_col9\" class=\"data row4 col9\" >-0.00405618</td> \n",
       "        <td id=\"T_492553ba_d58e_11e9_bbe6_0019d2e68385row4_col10\" class=\"data row4 col10\" >0.0683036</td> \n",
       "        <td id=\"T_492553ba_d58e_11e9_bbe6_0019d2e68385row4_col11\" class=\"data row4 col11\" >-0.248948</td> \n",
       "        <td id=\"T_492553ba_d58e_11e9_bbe6_0019d2e68385row4_col12\" class=\"data row4 col12\" >-0.925012</td> \n",
       "    </tr>    <tr> \n",
       "        <th id=\"T_492553ba_d58e_11e9_bbe6_0019d2e68385level0_row5\" class=\"row_heading level0 row5\" >Rebalanceo Agosto 2017</th> \n",
       "        <td id=\"T_492553ba_d58e_11e9_bbe6_0019d2e68385row5_col0\" class=\"data row5 col0\" >-0.0640015</td> \n",
       "        <td id=\"T_492553ba_d58e_11e9_bbe6_0019d2e68385row5_col1\" class=\"data row5 col1\" >0.0192303</td> \n",
       "        <td id=\"T_492553ba_d58e_11e9_bbe6_0019d2e68385row5_col2\" class=\"data row5 col2\" >0.0253608</td> \n",
       "        <td id=\"T_492553ba_d58e_11e9_bbe6_0019d2e68385row5_col3\" class=\"data row5 col3\" >0.0343841</td> \n",
       "        <td id=\"T_492553ba_d58e_11e9_bbe6_0019d2e68385row5_col4\" class=\"data row5 col4\" >0.0248256</td> \n",
       "        <td id=\"T_492553ba_d58e_11e9_bbe6_0019d2e68385row5_col5\" class=\"data row5 col5\" >-0.0268032</td> \n",
       "        <td id=\"T_492553ba_d58e_11e9_bbe6_0019d2e68385row5_col6\" class=\"data row5 col6\" >0.110673</td> \n",
       "        <td id=\"T_492553ba_d58e_11e9_bbe6_0019d2e68385row5_col7\" class=\"data row5 col7\" >0.0491572</td> \n",
       "        <td id=\"T_492553ba_d58e_11e9_bbe6_0019d2e68385row5_col8\" class=\"data row5 col8\" >0.180516</td> \n",
       "        <td id=\"T_492553ba_d58e_11e9_bbe6_0019d2e68385row5_col9\" class=\"data row5 col9\" >-0.0103228</td> \n",
       "        <td id=\"T_492553ba_d58e_11e9_bbe6_0019d2e68385row5_col10\" class=\"data row5 col10\" >0.0668065</td> \n",
       "        <td id=\"T_492553ba_d58e_11e9_bbe6_0019d2e68385row5_col11\" class=\"data row5 col11\" >-0.248855</td> \n",
       "        <td id=\"T_492553ba_d58e_11e9_bbe6_0019d2e68385row5_col12\" class=\"data row5 col12\" >-0.892962</td> \n",
       "    </tr>    <tr> \n",
       "        <th id=\"T_492553ba_d58e_11e9_bbe6_0019d2e68385level0_row6\" class=\"row_heading level0 row6\" >Rebalanceo Septiembre 2017</th> \n",
       "        <td id=\"T_492553ba_d58e_11e9_bbe6_0019d2e68385row6_col0\" class=\"data row6 col0\" >-0.0640015</td> \n",
       "        <td id=\"T_492553ba_d58e_11e9_bbe6_0019d2e68385row6_col1\" class=\"data row6 col1\" >0.0192303</td> \n",
       "        <td id=\"T_492553ba_d58e_11e9_bbe6_0019d2e68385row6_col2\" class=\"data row6 col2\" >0.0253608</td> \n",
       "        <td id=\"T_492553ba_d58e_11e9_bbe6_0019d2e68385row6_col3\" class=\"data row6 col3\" >0.0343841</td> \n",
       "        <td id=\"T_492553ba_d58e_11e9_bbe6_0019d2e68385row6_col4\" class=\"data row6 col4\" >0.0248256</td> \n",
       "        <td id=\"T_492553ba_d58e_11e9_bbe6_0019d2e68385row6_col5\" class=\"data row6 col5\" >-0.0427118</td> \n",
       "        <td id=\"T_492553ba_d58e_11e9_bbe6_0019d2e68385row6_col6\" class=\"data row6 col6\" >0.115161</td> \n",
       "        <td id=\"T_492553ba_d58e_11e9_bbe6_0019d2e68385row6_col7\" class=\"data row6 col7\" >0.0488047</td> \n",
       "        <td id=\"T_492553ba_d58e_11e9_bbe6_0019d2e68385row6_col8\" class=\"data row6 col8\" >0.186159</td> \n",
       "        <td id=\"T_492553ba_d58e_11e9_bbe6_0019d2e68385row6_col9\" class=\"data row6 col9\" >0.0015433</td> \n",
       "        <td id=\"T_492553ba_d58e_11e9_bbe6_0019d2e68385row6_col10\" class=\"data row6 col10\" >0.0733826</td> \n",
       "        <td id=\"T_492553ba_d58e_11e9_bbe6_0019d2e68385row6_col11\" class=\"data row6 col11\" >-0.249722</td> \n",
       "        <td id=\"T_492553ba_d58e_11e9_bbe6_0019d2e68385row6_col12\" class=\"data row6 col12\" >-0.927707</td> \n",
       "    </tr>    <tr> \n",
       "        <th id=\"T_492553ba_d58e_11e9_bbe6_0019d2e68385level0_row7\" class=\"row_heading level0 row7\" >Rebalanceo Octubre 2017</th> \n",
       "        <td id=\"T_492553ba_d58e_11e9_bbe6_0019d2e68385row7_col0\" class=\"data row7 col0\" >-0.0640015</td> \n",
       "        <td id=\"T_492553ba_d58e_11e9_bbe6_0019d2e68385row7_col1\" class=\"data row7 col1\" >0.0192303</td> \n",
       "        <td id=\"T_492553ba_d58e_11e9_bbe6_0019d2e68385row7_col2\" class=\"data row7 col2\" >0.0253608</td> \n",
       "        <td id=\"T_492553ba_d58e_11e9_bbe6_0019d2e68385row7_col3\" class=\"data row7 col3\" >0.0343841</td> \n",
       "        <td id=\"T_492553ba_d58e_11e9_bbe6_0019d2e68385row7_col4\" class=\"data row7 col4\" >0.0248256</td> \n",
       "        <td id=\"T_492553ba_d58e_11e9_bbe6_0019d2e68385row7_col5\" class=\"data row7 col5\" >-0.0427118</td> \n",
       "        <td id=\"T_492553ba_d58e_11e9_bbe6_0019d2e68385row7_col6\" class=\"data row7 col6\" >0.124374</td> \n",
       "        <td id=\"T_492553ba_d58e_11e9_bbe6_0019d2e68385row7_col7\" class=\"data row7 col7\" >0.0481737</td> \n",
       "        <td id=\"T_492553ba_d58e_11e9_bbe6_0019d2e68385row7_col8\" class=\"data row7 col8\" >0.186061</td> \n",
       "        <td id=\"T_492553ba_d58e_11e9_bbe6_0019d2e68385row7_col9\" class=\"data row7 col9\" >0.00183345</td> \n",
       "        <td id=\"T_492553ba_d58e_11e9_bbe6_0019d2e68385row7_col10\" class=\"data row7 col10\" >0.0733931</td> \n",
       "        <td id=\"T_492553ba_d58e_11e9_bbe6_0019d2e68385row7_col11\" class=\"data row7 col11\" >-0.25002</td> \n",
       "        <td id=\"T_492553ba_d58e_11e9_bbe6_0019d2e68385row7_col12\" class=\"data row7 col12\" >-0.930067</td> \n",
       "    </tr>    <tr> \n",
       "        <th id=\"T_492553ba_d58e_11e9_bbe6_0019d2e68385level0_row8\" class=\"row_heading level0 row8\" >Rebalanceo Noviembre 2017</th> \n",
       "        <td id=\"T_492553ba_d58e_11e9_bbe6_0019d2e68385row8_col0\" class=\"data row8 col0\" >-0.0640015</td> \n",
       "        <td id=\"T_492553ba_d58e_11e9_bbe6_0019d2e68385row8_col1\" class=\"data row8 col1\" >0.0192303</td> \n",
       "        <td id=\"T_492553ba_d58e_11e9_bbe6_0019d2e68385row8_col2\" class=\"data row8 col2\" >0.0253608</td> \n",
       "        <td id=\"T_492553ba_d58e_11e9_bbe6_0019d2e68385row8_col3\" class=\"data row8 col3\" >0.0343841</td> \n",
       "        <td id=\"T_492553ba_d58e_11e9_bbe6_0019d2e68385row8_col4\" class=\"data row8 col4\" >0.0248256</td> \n",
       "        <td id=\"T_492553ba_d58e_11e9_bbe6_0019d2e68385row8_col5\" class=\"data row8 col5\" >-0.0427118</td> \n",
       "        <td id=\"T_492553ba_d58e_11e9_bbe6_0019d2e68385row8_col6\" class=\"data row8 col6\" >0.124374</td> \n",
       "        <td id=\"T_492553ba_d58e_11e9_bbe6_0019d2e68385row8_col7\" class=\"data row8 col7\" >0.0394824</td> \n",
       "        <td id=\"T_492553ba_d58e_11e9_bbe6_0019d2e68385row8_col8\" class=\"data row8 col8\" >0.211864</td> \n",
       "        <td id=\"T_492553ba_d58e_11e9_bbe6_0019d2e68385row8_col9\" class=\"data row8 col9\" >0.00771</td> \n",
       "        <td id=\"T_492553ba_d58e_11e9_bbe6_0019d2e68385row8_col10\" class=\"data row8 col10\" >0.0702581</td> \n",
       "        <td id=\"T_492553ba_d58e_11e9_bbe6_0019d2e68385row8_col11\" class=\"data row8 col11\" >-0.250927</td> \n",
       "        <td id=\"T_492553ba_d58e_11e9_bbe6_0019d2e68385row8_col12\" class=\"data row8 col12\" >-0.968714</td> \n",
       "    </tr>    <tr> \n",
       "        <th id=\"T_492553ba_d58e_11e9_bbe6_0019d2e68385level0_row9\" class=\"row_heading level0 row9\" >Rebalanceo Dieciembre 2017</th> \n",
       "        <td id=\"T_492553ba_d58e_11e9_bbe6_0019d2e68385row9_col0\" class=\"data row9 col0\" >-0.0640015</td> \n",
       "        <td id=\"T_492553ba_d58e_11e9_bbe6_0019d2e68385row9_col1\" class=\"data row9 col1\" >0.0192303</td> \n",
       "        <td id=\"T_492553ba_d58e_11e9_bbe6_0019d2e68385row9_col2\" class=\"data row9 col2\" >0.0253608</td> \n",
       "        <td id=\"T_492553ba_d58e_11e9_bbe6_0019d2e68385row9_col3\" class=\"data row9 col3\" >0.0343841</td> \n",
       "        <td id=\"T_492553ba_d58e_11e9_bbe6_0019d2e68385row9_col4\" class=\"data row9 col4\" >0.0248256</td> \n",
       "        <td id=\"T_492553ba_d58e_11e9_bbe6_0019d2e68385row9_col5\" class=\"data row9 col5\" >-0.0427118</td> \n",
       "        <td id=\"T_492553ba_d58e_11e9_bbe6_0019d2e68385row9_col6\" class=\"data row9 col6\" >0.124374</td> \n",
       "        <td id=\"T_492553ba_d58e_11e9_bbe6_0019d2e68385row9_col7\" class=\"data row9 col7\" >0.0394824</td> \n",
       "        <td id=\"T_492553ba_d58e_11e9_bbe6_0019d2e68385row9_col8\" class=\"data row9 col8\" >0.18871</td> \n",
       "        <td id=\"T_492553ba_d58e_11e9_bbe6_0019d2e68385row9_col9\" class=\"data row9 col9\" >0.0438937</td> \n",
       "        <td id=\"T_492553ba_d58e_11e9_bbe6_0019d2e68385row9_col10\" class=\"data row9 col10\" >0.0773951</td> \n",
       "        <td id=\"T_492553ba_d58e_11e9_bbe6_0019d2e68385row9_col11\" class=\"data row9 col11\" >-0.253428</td> \n",
       "        <td id=\"T_492553ba_d58e_11e9_bbe6_0019d2e68385row9_col12\" class=\"data row9 col12\" >-0.992971</td> \n",
       "    </tr>    <tr> \n",
       "        <th id=\"T_492553ba_d58e_11e9_bbe6_0019d2e68385level0_row10\" class=\"row_heading level0 row10\" >Rebalanceo Enero 2017</th> \n",
       "        <td id=\"T_492553ba_d58e_11e9_bbe6_0019d2e68385row10_col0\" class=\"data row10 col0\" >-0.0640015</td> \n",
       "        <td id=\"T_492553ba_d58e_11e9_bbe6_0019d2e68385row10_col1\" class=\"data row10 col1\" >0.0192303</td> \n",
       "        <td id=\"T_492553ba_d58e_11e9_bbe6_0019d2e68385row10_col2\" class=\"data row10 col2\" >0.0253608</td> \n",
       "        <td id=\"T_492553ba_d58e_11e9_bbe6_0019d2e68385row10_col3\" class=\"data row10 col3\" >0.0343841</td> \n",
       "        <td id=\"T_492553ba_d58e_11e9_bbe6_0019d2e68385row10_col4\" class=\"data row10 col4\" >0.0248256</td> \n",
       "        <td id=\"T_492553ba_d58e_11e9_bbe6_0019d2e68385row10_col5\" class=\"data row10 col5\" >-0.0427118</td> \n",
       "        <td id=\"T_492553ba_d58e_11e9_bbe6_0019d2e68385row10_col6\" class=\"data row10 col6\" >0.124374</td> \n",
       "        <td id=\"T_492553ba_d58e_11e9_bbe6_0019d2e68385row10_col7\" class=\"data row10 col7\" >0.0394824</td> \n",
       "        <td id=\"T_492553ba_d58e_11e9_bbe6_0019d2e68385row10_col8\" class=\"data row10 col8\" >0.18871</td> \n",
       "        <td id=\"T_492553ba_d58e_11e9_bbe6_0019d2e68385row10_col9\" class=\"data row10 col9\" >-0.00402921</td> \n",
       "        <td id=\"T_492553ba_d58e_11e9_bbe6_0019d2e68385row10_col10\" class=\"data row10 col10\" >0.0700354</td> \n",
       "        <td id=\"T_492553ba_d58e_11e9_bbe6_0019d2e68385row10_col11\" class=\"data row10 col11\" >-0.250927</td> \n",
       "        <td id=\"T_492553ba_d58e_11e9_bbe6_0019d2e68385row10_col12\" class=\"data row10 col12\" >-0.968714</td> \n",
       "    </tr></tbody> \n",
       "</table> "
      ],
      "text/plain": [
       "<pandas.io.formats.style.Styler at 0x229fac75780>"
      ]
     },
     "execution_count": 80,
     "metadata": {},
     "output_type": "execute_result"
    },
    {
     "data": {
      "image/png": "[encoded data removed]",
      "text/plain": [
       "<Figure size 432x288 with 1 Axes>"
      ]
     },
     "metadata": {
      "needs_background": "light"
     },
     "output_type": "display_data"
    }
   ],
   "source": [
    "rendrebalan=[rendimientos(i) for i in range (11)]\n",
    "\n",
    "\n",
    "df = pd.DataFrame({'NO rebalanceo Marzo 2017':rendrebalan[0].iloc[:,0]\n",
    "                    ,'Rebalanceo Abril 2017':rendrebalan[1].iloc[:,1]\n",
    "                   ,'Rebalanceo Mayo 2017':rendrebalan[2].iloc[:,1]\n",
    "                  ,'Rebalanceo Junio 2017':rendrebalan[3].iloc[:,1]\n",
    "                  ,'Rebalanceo Julio 2017':rendrebalan[4].iloc[:,1]\n",
    "                  ,'Rebalanceo Agosto 2017':rendrebalan[5].iloc[:,1]\n",
    "                  ,'Rebalanceo Septiembre 2017':rendrebalan[6].iloc[:,1]\n",
    "                  ,'Rebalanceo Octubre 2017':rendrebalan[7].iloc[:,1]\n",
    "                  ,'Rebalanceo Noviembre 2017':rendrebalan[8].iloc[:,1]\n",
    "                  ,'Rebalanceo Dieciembre 2017':rendrebalan[9].iloc[:,1]\n",
    "                   \n",
    "                  ,'Rebalanceo Enero 2017':rendrebalan[10].iloc[:,1]})\n",
    "index_ = [\"Mar\", \"Apr\", \"May\", \"Jun\", \"Jul\", \"Aug\", \"Sep\", \"Oct\", \"Nov\", \"Dec\", \"Jan 2018\", \"Feb 2018\",\"Mar 2018\"] \n",
    "#index_ = ('Marzo 2017', 'Abril 2017','Mayo 2017','Junio 2017','Julio 2017','Agosto 2017','Septiembre 2017','Octubre 2017','Noviembre 2017','Diciembre 2017','Enero 2018','Febrero 2018') \n",
    "df.index = index_ \n",
    "\n",
    "grafica(0,\"Sin rebalanceo\"),grafica(1,\"Rebalanceo abril\"),grafica(2,\"Rebalanceo mayo\"),grafica(3,\"Rebalanceo Junio\"),grafica(4,\"Rebalanceo Julio\"),grafica(5,\"Rebalanceo agosto\"),grafica(6,\"Rebalanceo septiembre\"),grafica(7,\"Rebalanceo octubre\"),grafica(8,\"Rebalanceo noviembre\"),grafica(9,\"Rebalanceo diciembre\"),grafica(10,\"Rebalanceo enero\"),grafica(11,\"Rebalanceo febrero\")\n",
    "\n",
    "df.transpose().style\n"
   ]
  },
  {
   "cell_type": "markdown",
   "metadata": {},
   "source": [
    "# Creamos nuestro portafolio, con nuestros pesos"
   ]
  },
  {
   "cell_type": "code",
   "execution_count": 81,
   "metadata": {},
   "outputs": [],
   "source": [
    "w = [np.random.random(len(rtw2017[0].drop(\"date\",axis=1).columns)) for i in range(1000)]\n",
    "sw = [sum(i) for i in w]\n",
    "w = list(map(lambda x,y: x/y,w,sw))\n",
    "media = rtw2017[0].mean()\n",
    "varianza = rtw2017[0].var()\n",
    "desvest = rtw2017[0].std()\n",
    "cov = rtw2017[0].cov()"
   ]
  },
  {
   "cell_type": "code",
   "execution_count": 82,
   "metadata": {},
   "outputs": [],
   "source": [
    "wret = [[sum(media*i),np.sqrt(np.dot(np.transpose(i), np.dot(cov, i))),i] for i in w]\n",
    "port = pd.DataFrame(wret,columns = [\"E[Rp]\",\"Sigma\",\"W\"])"
   ]
  },
  {
   "cell_type": "code",
   "execution_count": 83,
   "metadata": {},
   "outputs": [
    {
     "data": {
      "text/plain": [
       "Text(0,0.5,'E[Rp]')"
      ]
     },
     "execution_count": 83,
     "metadata": {},
     "output_type": "execute_result"
    },
    {
     "data": {
      "image/png": "[encoded data removed]",
      "text/plain": [
       "<Figure size 432x288 with 1 Axes>"
      ]
     },
     "metadata": {
      "needs_background": "light"
     },
     "output_type": "display_data"
    }
   ],
   "source": [
    "plt.plot(port.iloc[:,1],port.iloc[:,0],\"o\")\n",
    "plt.title(\"Primer Portafolio\")\n",
    "plt.xlabel(\"Desv. Est.\")\n",
    "plt.ylabel(\"E[Rp]\")"
   ]
  },
  {
   "cell_type": "code",
   "execution_count": 84,
   "metadata": {},
   "outputs": [],
   "source": [
    "port[\"Sharpe\"] = list(map(lambda x,y: x/y,port.iloc[:,0],port.iloc[:,1]))"
   ]
  },
  {
   "cell_type": "code",
   "execution_count": 85,
   "metadata": {},
   "outputs": [],
   "source": [
    "min_volatility = port['Sigma'].min()\n",
    "max_sharpe = port['Sharpe'].max()\n",
    "\n",
    "sharpe_portfolio = port.loc[port['Sharpe'] == max_sharpe]\n",
    "min_variance_port = port.loc[port['Sigma'] == min_volatility]"
   ]
  },
  {
   "cell_type": "code",
   "execution_count": 86,
   "metadata": {},
   "outputs": [
    {
     "data": {
      "text/html": [
       "<div>\n",
       "<style scoped>\n",
       "    .dataframe tbody tr th:only-of-type {\n",
       "        vertical-align: middle;\n",
       "    }\n",
       "\n",
       "    .dataframe tbody tr th {\n",
       "        vertical-align: top;\n",
       "    }\n",
       "\n",
       "    .dataframe thead th {\n",
       "        text-align: right;\n",
       "    }\n",
       "</style>\n",
       "<table border=\"1\" class=\"dataframe\">\n",
       "  <thead>\n",
       "    <tr style=\"text-align: right;\">\n",
       "      <th></th>\n",
       "      <th>E[Rp]</th>\n",
       "      <th>Sigma</th>\n",
       "      <th>W</th>\n",
       "      <th>Sharpe</th>\n",
       "    </tr>\n",
       "  </thead>\n",
       "  <tbody>\n",
       "    <tr>\n",
       "      <th>115</th>\n",
       "      <td>0.000218</td>\n",
       "      <td>0.006126</td>\n",
       "      <td>[0.0060802454874267255, 0.001396536137252103, ...</td>\n",
       "      <td>0.035574</td>\n",
       "    </tr>\n",
       "  </tbody>\n",
       "</table>\n",
       "</div>"
      ],
      "text/plain": [
       "        E[Rp]     Sigma                                                  W  \\\n",
       "115  0.000218  0.006126  [0.0060802454874267255, 0.001396536137252103, ...   \n",
       "\n",
       "       Sharpe  \n",
       "115  0.035574  "
      ]
     },
     "execution_count": 86,
     "metadata": {},
     "output_type": "execute_result"
    }
   ],
   "source": [
    "sharpe_portfolio"
   ]
  },
  {
   "cell_type": "code",
   "execution_count": 89,
   "metadata": {},
   "outputs": [
    {
     "data": {
      "text/plain": [
       "Text(0.5,1,'Efficient Frontier')"
      ]
     },
     "execution_count": 89,
     "metadata": {},
     "output_type": "execute_result"
    },
    {
     "data": {
      "image/png": "[encoded data removed]",
      "text/plain": [
       "<Figure size 1440x1872 with 2 Axes>"
      ]
     },
     "metadata": {},
     "output_type": "display_data"
    }
   ],
   "source": [
    "plt.style.use('seaborn-dark')\n",
    "port.plot.scatter(x='Sigma', y='E[Rp]', c='Sharpe',\n",
    "                cmap='RdYlGn', edgecolors='black' ,figsize=(20, 26), grid=True)\n",
    "plt.scatter(x=sharpe_portfolio['Sigma'], y=sharpe_portfolio[\"E[Rp]\"], c='red', marker='D', s=200)\n",
    "plt.scatter(x=min_variance_port['Sigma'], y=min_variance_port[\"E[Rp]\"], c='blue', marker='D', s=200 )\n",
    "plt.xlabel('Desv. Est.')\n",
    "plt.ylabel('E[Rp]')\n",
    "plt.title('Efficient Frontier')"
   ]
  },
  {
   "cell_type": "code",
   "execution_count": 90,
   "metadata": {},
   "outputs": [
    {
     "data": {
      "text/plain": [
       "115    [0.0060802454874267255, 0.001396536137252103, ...\n",
       "Name: W, dtype: object"
      ]
     },
     "execution_count": 90,
     "metadata": {},
     "output_type": "execute_result"
    }
   ],
   "source": [
    "menor = sharpe_portfolio\n",
    "w = menor.iloc[:,2]\n",
    "w"
   ]
  },
  {
   "cell_type": "markdown",
   "metadata": {},
   "source": [
    "### Conclusión\n",
    "\n",
    "Con base en los resultados, podemos observar que, bajo el supuesto con el que se trabajó, el mejor momento para haber rebalanceado el ETF fue el mes de Noviembre, ya que la estrategia de \"buy & hold\" hubiera tenido un rendimiento muy cercano al 6%, mientras que el resto de los escenarios se presentan más cercanos al 5%, además observamos también que el Sharpe de ese rebalanceo es el mayor, por lo que podemos decir que es el mejor rendimiento ajustado al riesgo asumido.\n",
    "\n",
    "En cuanto a la propuesta que el equipo otorga a la mesa de directivos, se decidió proponer una ponderación con base en la teoría de Markowitz, tomando como parámetro la ponderación del primer rebalanceo, para que ésta se ajuste al nivel de riesgo que se proponga por la mesa directiva."
   ]
  },
  {
   "cell_type": "code",
   "execution_count": null,
   "metadata": {},
   "outputs": [],
   "source": []
  }
 ],
 "metadata": {
  "kernelspec": {
   "display_name": "Python 3",
   "language": "python",
   "name": "python3"
  },
  "language_info": {
   "codemirror_mode": {
    "name": "ipython",
    "version": 3
   },
   "file_extension": ".py",
   "mimetype": "text/x-python",
   "name": "python",
   "nbconvert_exporter": "python",
   "pygments_lexer": "ipython3",
   "version": "3.7.0"
  }
 },
 "nbformat": 4,
 "nbformat_minor": 2
}
